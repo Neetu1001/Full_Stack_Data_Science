{
 "cells": [
  {
   "cell_type": "markdown",
   "id": "1459d9a0",
   "metadata": {},
   "source": [
    "## Assignment 5\n",
    "\n",
    "### 1. What does an empty dictionary's code look like?\n",
    "\n",
    "**Ans:** "
   ]
  },
  {
   "cell_type": "code",
   "execution_count": 1,
   "id": "cccd2ed7",
   "metadata": {},
   "outputs": [
    {
     "data": {
      "text/plain": [
       "dict"
      ]
     },
     "execution_count": 1,
     "metadata": {},
     "output_type": "execute_result"
    }
   ],
   "source": [
    "a_dict = {}\n",
    "type(a_dict)"
   ]
  },
  {
   "cell_type": "markdown",
   "id": "0c1881fc",
   "metadata": {},
   "source": [
    "### 2. What is the value of a dictionary value with the key 'foo' and the value 42?"
   ]
  },
  {
   "cell_type": "code",
   "execution_count": 2,
   "id": "10a1ba8f",
   "metadata": {},
   "outputs": [
    {
     "data": {
      "text/plain": [
       "42"
      ]
     },
     "execution_count": 2,
     "metadata": {},
     "output_type": "execute_result"
    }
   ],
   "source": [
    "a = {'foo': 42}\n",
    "\n",
    "a['foo']"
   ]
  },
  {
   "cell_type": "markdown",
   "id": "4fe38d8e",
   "metadata": {},
   "source": [
    "### 3. What is the most significant distinction between a dictionary and a list?\n",
    "\n",
    "**Ans:** \n",
    "\n",
    "    1. Dictionary : is defined using {}.\n",
    "        List : is defined using [].\n",
    "\n",
    "    2. Dictionary : is accessed using a key-value pair.\n",
    "       List : are accessed using indexes/positions.\n",
    "\n",
    "    3. Dictionary : is unordered sequence of collection.\n",
    "       List : is an ordered sequence of collection."
   ]
  },
  {
   "cell_type": "markdown",
   "id": "602c3d52",
   "metadata": {},
   "source": [
    "### 4. What happens if you try to access spam['foo'] if spam is {'bar': 100}?"
   ]
  },
  {
   "cell_type": "code",
   "execution_count": 3,
   "id": "4e7748b3",
   "metadata": {},
   "outputs": [
    {
     "name": "stdout",
     "output_type": "stream",
     "text": [
      "{'bar': 100}\n"
     ]
    },
    {
     "ename": "KeyError",
     "evalue": "'foo'",
     "output_type": "error",
     "traceback": [
      "\u001b[1;31m---------------------------------------------------------------------------\u001b[0m",
      "\u001b[1;31mKeyError\u001b[0m                                  Traceback (most recent call last)",
      "Cell \u001b[1;32mIn[3], line 4\u001b[0m\n\u001b[0;32m      1\u001b[0m spam \u001b[38;5;241m=\u001b[39m {\u001b[38;5;124m'\u001b[39m\u001b[38;5;124mbar\u001b[39m\u001b[38;5;124m'\u001b[39m: \u001b[38;5;241m100\u001b[39m}\n\u001b[0;32m      2\u001b[0m \u001b[38;5;28mprint\u001b[39m(spam)\n\u001b[1;32m----> 4\u001b[0m \u001b[43mspam\u001b[49m\u001b[43m[\u001b[49m\u001b[38;5;124;43m'\u001b[39;49m\u001b[38;5;124;43mfoo\u001b[39;49m\u001b[38;5;124;43m'\u001b[39;49m\u001b[43m]\u001b[49m\n\u001b[0;32m      5\u001b[0m \u001b[38;5;66;03m# This will give an error as no key name is 'foo'\u001b[39;00m\n",
      "\u001b[1;31mKeyError\u001b[0m: 'foo'"
     ]
    }
   ],
   "source": [
    "spam = {'bar': 100}\n",
    "print(spam)\n",
    "\n",
    "spam['foo']\n",
    "# This will give an error as no key name is 'foo'"
   ]
  },
  {
   "cell_type": "markdown",
   "id": "cd3383f2",
   "metadata": {},
   "source": [
    "### 5.If a dictionary is stored in spam,what is the difference between the expressions 'cat' in spam and 'cat' in spam.keys() ?"
   ]
  },
  {
   "cell_type": "code",
   "execution_count": 4,
   "id": "6fc4cfc4",
   "metadata": {},
   "outputs": [
    {
     "name": "stdout",
     "output_type": "stream",
     "text": [
      "{'cat': 123456}\n"
     ]
    },
    {
     "data": {
      "text/plain": [
       "True"
      ]
     },
     "execution_count": 4,
     "metadata": {},
     "output_type": "execute_result"
    }
   ],
   "source": [
    "spam = {'cat' : 123456}\n",
    "print(spam)\n",
    "\n",
    "'cat' in spam"
   ]
  },
  {
   "cell_type": "code",
   "execution_count": 5,
   "id": "4056397d",
   "metadata": {},
   "outputs": [
    {
     "data": {
      "text/plain": [
       "True"
      ]
     },
     "execution_count": 5,
     "metadata": {},
     "output_type": "execute_result"
    }
   ],
   "source": [
    "'cat' in spam.keys()"
   ]
  },
  {
   "cell_type": "markdown",
   "id": "0ab0808f",
   "metadata": {},
   "source": [
    "    The result of both the operation is same as the 'cat' key_name is present within the dictionary\n",
    "\n",
    "    Also spam.keys() provides all the keys present within the dictionary"
   ]
  },
  {
   "cell_type": "markdown",
   "id": "3f6f0ce2",
   "metadata": {},
   "source": [
    "### 6. If a dictionary is stored in spam, what is the difference between the expressions 'cat' in spam and 'cat' in spam.values()?\n",
    "\n",
    "**Ans:**"
   ]
  },
  {
   "cell_type": "code",
   "execution_count": 6,
   "id": "1d9c8c55",
   "metadata": {},
   "outputs": [
    {
     "name": "stdout",
     "output_type": "stream",
     "text": [
      "{'cat': 123456}\n"
     ]
    },
    {
     "data": {
      "text/plain": [
       "True"
      ]
     },
     "execution_count": 6,
     "metadata": {},
     "output_type": "execute_result"
    }
   ],
   "source": [
    "spam = {'cat' : 123456}\n",
    "print(spam)\n",
    "\n",
    "'cat' in spam\n",
    "# This checks for the key name in a dictionary"
   ]
  },
  {
   "cell_type": "code",
   "execution_count": 7,
   "id": "7756eed4",
   "metadata": {},
   "outputs": [
    {
     "data": {
      "text/plain": [
       "False"
      ]
     },
     "execution_count": 7,
     "metadata": {},
     "output_type": "execute_result"
    }
   ],
   "source": [
    "'cat' in spam.values()"
   ]
  },
  {
   "cell_type": "markdown",
   "id": "0103ba20",
   "metadata": {},
   "source": [
    "    The result of both the operation will be different as the 'cat' is a key name & is present within the dictionary.\n",
    "\n",
    "    Also spam.values() provides all the values present within the dictionary\n",
    "    So if the values match with the given value ; it will definitely return True"
   ]
  },
  {
   "cell_type": "markdown",
   "id": "df94e326",
   "metadata": {},
   "source": [
    "### 7.What is a shortcut for the following code? if 'color' not in spam: spam['color'] = 'black'"
   ]
  },
  {
   "cell_type": "code",
   "execution_count": 8,
   "id": "b5f883b5",
   "metadata": {},
   "outputs": [
    {
     "name": "stdout",
     "output_type": "stream",
     "text": [
      "{'abc': 123, 'color': 'black'}\n"
     ]
    }
   ],
   "source": [
    "spam = {'abc' : 123}\n",
    "\n",
    "# This stmt will automatically create a new key named 'color' if the 'color' key is not present within the dictionary\n",
    "spam['color'] = 'black'\n",
    "# Also if the 'color' key is present within the dictionary; the value of that key will be updated\n",
    "\n",
    "print(spam)"
   ]
  },
  {
   "cell_type": "markdown",
   "id": "54fdfc7d",
   "metadata": {},
   "source": [
    "### 8. How do you \"pretty print\" dictionary values using which module and function?\n",
    "\n",
    "**Ans:** \n",
    "\n",
    "**pprint** is the python built-in module that can be used to print python datatypes in a more readable way.\n",
    "\n",
    "Within the pprint module; pprint() function is used to perform this operation.\n",
    "\n"
   ]
  },
  {
   "cell_type": "code",
   "execution_count": 9,
   "id": "d3939d5d",
   "metadata": {},
   "outputs": [
    {
     "name": "stdout",
     "output_type": "stream",
     "text": [
      "[{'Class': '10th', 'Result': 75, 'Board': 'MSB'}, {'Class': '12th', 'Result': 82, 'Board': 'MSBTE'}]\n"
     ]
    }
   ],
   "source": [
    "# Importing the module\n",
    "import pprint\n",
    "\n",
    "# Creating a array\n",
    "a = [{'Class': '10th', 'Result': 75, 'Board': 'MSB'},\n",
    "     {'Class': '12th', 'Result': 82, 'Board': 'MSBTE'}]\n",
    "\n",
    "print(a)"
   ]
  },
  {
   "cell_type": "code",
   "execution_count": 10,
   "id": "7ece8e54",
   "metadata": {},
   "outputs": [
    {
     "name": "stdout",
     "output_type": "stream",
     "text": [
      "[{'Board': 'MSB', 'Class': '10th', 'Result': 75},\n",
      " {'Board': 'MSBTE', 'Class': '12th', 'Result': 82}]\n"
     ]
    }
   ],
   "source": [
    "pprint.pprint(a)"
   ]
  }
 ],
 "metadata": {
  "kernelspec": {
   "display_name": "Python 3",
   "language": "python",
   "name": "python3"
  },
  "language_info": {
   "codemirror_mode": {
    "name": "ipython",
    "version": 3
   },
   "file_extension": ".py",
   "mimetype": "text/x-python",
   "name": "python",
   "nbconvert_exporter": "python",
   "pygments_lexer": "ipython3",
   "version": "3.8.8"
  }
 },
 "nbformat": 4,
 "nbformat_minor": 5
}
