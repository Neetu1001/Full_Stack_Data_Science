{
 "cells": [
  {
   "cell_type": "markdown",
   "id": "58a8503b",
   "metadata": {},
   "source": [
    "##  10th June - Python (Functions Assignment) - 1\n",
    "\n",
    "### 1. In Python, what is the difference between a built-in function and a user-defined function? Provide an example of each.\n",
    "\n",
    "**Ans:** In Python, the main difference between a built-in function and a user-defined function lies in their origins and how they are created.\n",
    "\n",
    "1. ``**Built-in Functions**``: Built-in functions are pre-defined functions that are provided by the Python programming language. They are readily available for use without requiring any additional code or import statements. These functions are part of the Python standard library and cover a wide range of functionalities, such as manipulating strings, performing mathematical operations, working with data structures, and more. Some examples of built-in functions include print(), len(), max(), and type().\n",
    "\n",
    "Example:"
   ]
  },
  {
   "cell_type": "code",
   "execution_count": 1,
   "id": "81666dfe",
   "metadata": {},
   "outputs": [
    {
     "name": "stdout",
     "output_type": "stream",
     "text": [
      "Hello, world!\n"
     ]
    }
   ],
   "source": [
    "# Using the built-in function print()\n",
    "print(\"Hello, world!\")"
   ]
  },
  {
   "cell_type": "markdown",
   "id": "74e7146f",
   "metadata": {},
   "source": [
    "2. ``**User-defined Functions**``: User-defined functions are functions created by the users or developers to perform specific tasks. They are defined using the def keyword followed by a function name, parentheses for optional parameters, and a colon. The function body consists of one or more statements that define the logic and operations to be executed. User-defined functions can be reused multiple times throughout a program, enhancing code modularity and readability.\n",
    "\n",
    "Example:"
   ]
  },
  {
   "cell_type": "code",
   "execution_count": 2,
   "id": "ac32e6ec",
   "metadata": {},
   "outputs": [
    {
     "name": "stdout",
     "output_type": "stream",
     "text": [
      "Hello, Alice!\n"
     ]
    }
   ],
   "source": [
    "# Defining a user-defined function\n",
    "def greet(name):\n",
    "    print(\"Hello, \" + name + \"!\")\n",
    "\n",
    "# Calling the user-defined function\n",
    "greet(\"Alice\")"
   ]
  },
  {
   "cell_type": "markdown",
   "id": "d7c37ff2",
   "metadata": {},
   "source": [
    "In summary, built-in functions are provided by Python itself, while user-defined functions are created by the users to fulfill specific requirements. Both types of functions serve different purposes and can be used together to build powerful and flexible Python programs.\n",
    "\n",
    "### 2. How can you pass arguments to a function in Python? Explain the difference between positional arguments and keyword arguments.\n",
    "\n",
    "In Python, you can pass arguments to a function in the following ways:\n",
    "\n",
    "1. **``Positional Arguments``** : Positional arguments are passed to a function based on their position or order. The arguments are matched to the function parameters in the same order in which they are passed. The number of arguments passed must match the number of parameters defined in the function. Positional arguments are the default way of passing arguments to a function if no other method is specified.\n",
    "\n",
    "Example:"
   ]
  },
  {
   "cell_type": "code",
   "execution_count": 7,
   "id": "33f3814a",
   "metadata": {},
   "outputs": [
    {
     "data": {
      "text/plain": [
       "8"
      ]
     },
     "execution_count": 7,
     "metadata": {},
     "output_type": "execute_result"
    }
   ],
   "source": [
    "def add_numbers(x, y):\n",
    "    return x + y\n",
    "\n",
    "add_numbers(3, 5)"
   ]
  },
  {
   "cell_type": "markdown",
   "id": "aebc103c",
   "metadata": {},
   "source": [
    "2. **``Keyword Arguments``**: Keyword arguments are passed to a function using the parameter names along with the corresponding values. This method allows arguments to be passed in any order, as long as the parameter names are specified. Keyword arguments are useful when a function has many parameters or when you want to provide only a subset of the parameters explicitly.\n",
    "\n",
    "Example"
   ]
  },
  {
   "cell_type": "code",
   "execution_count": 6,
   "id": "0a8d7c98",
   "metadata": {},
   "outputs": [
    {
     "data": {
      "text/plain": [
       "24"
      ]
     },
     "execution_count": 6,
     "metadata": {},
     "output_type": "execute_result"
    }
   ],
   "source": [
    "def calculate_area(length, width):\n",
    "    return length * width\n",
    "\n",
    "calculate_area(length=4, width=6)"
   ]
  },
  {
   "cell_type": "markdown",
   "id": "913108f5",
   "metadata": {},
   "source": [
    "### 3. What is the purpose of the return statement in a function? Can a function have multiple return statements? Explain with an example.\n",
    "\n",
    "**Ans:** The **'return'** statement in a function serves the purpose of specifying the value or values that the function should return when it is called. It allows a function to compute a result or perform an operation and provide the result back to the caller. The return statement also terminates the execution of the function, immediately exiting the function body.\n",
    "\n",
    "Yes, a function can have multiple return statements. The execution of a function stops as soon as a return statement is encountered, regardless of whether there are more statements or return statements following it. Having multiple return statements can be useful when different conditions in the function require different return values or when you want to exit the function prematurely based on certain conditions.\n",
    "\n",
    "Having multiple 'return' statements allows for more flexibility in controlling the flow of the function and returning different values based on different conditions or scenarios.\n",
    "\n",
    "Example:"
   ]
  },
  {
   "cell_type": "code",
   "execution_count": 8,
   "id": "70345405",
   "metadata": {},
   "outputs": [
    {
     "name": "stdout",
     "output_type": "stream",
     "text": [
      "B\n",
      "C\n"
     ]
    }
   ],
   "source": [
    "def get_grade(score):\n",
    "    if score >= 90:\n",
    "        return \"A\"\n",
    "    elif score >= 80:\n",
    "        return \"B\"\n",
    "    elif score >= 70:\n",
    "        return \"C\"\n",
    "    else:\n",
    "        return \"F\"\n",
    "\n",
    "result1 = get_grade(85)\n",
    "result2 = get_grade(72)\n",
    "\n",
    "print(result1)  \n",
    "print(result2)  "
   ]
  },
  {
   "cell_type": "markdown",
   "id": "9a35ba75",
   "metadata": {},
   "source": [
    "### 4. What are lambda functions in Python? How are they different from regular functions? Provide an example where a lambda function can be useful.\n",
    "\n",
    "**Lambda functions** in Python are anonymous functions, also known as \"lambda expressions.\" They are called anonymous because they don't require a formal function declaration using the def keyword. Instead, they are defined using the lambda keyword, followed by a set of arguments, a colon, and an expression. The result of the expression is automatically returned.\n",
    "\n",
    "Lambda functions are different from regular functions in a few ways:\n",
    "\n",
    "1. **Syntax:** Lambda functions are written in a more concise form compared to regular functions, with a single expression instead of a block of statements.\n",
    "\n",
    "2. **Nameless:** Lambda functions do not have a name. They are usually used where a small, one-time function is needed and defining a named function would be unnecessary overhead.\n",
    "\n",
    "3. **Limited functionality:** Lambda functions are limited to a single expression and cannot contain multiple statements or complex logic. They are typically used for simple, one-liner operations."
   ]
  },
  {
   "cell_type": "code",
   "execution_count": 9,
   "id": "4252e832",
   "metadata": {},
   "outputs": [
    {
     "data": {
      "text/plain": [
       "8"
      ]
     },
     "execution_count": 9,
     "metadata": {},
     "output_type": "execute_result"
    }
   ],
   "source": [
    "add_lambda = lambda x, y: x + y\n",
    "\n",
    "add_lambda(3, 5)"
   ]
  },
  {
   "cell_type": "markdown",
   "id": "773a419b",
   "metadata": {},
   "source": [
    "### 5. How does the concept of \"scope\" apply to functions in Python? Explain the difference between local scope and global scope.\n",
    "\n",
    "**Ans:** The scope of the variable is simply lifetime of a variable. It is block of code under which a variable is applicable or alive. \n",
    "1. Inside a function or a block: Local variables\n",
    "2. Outside of all functions: Global variables"
   ]
  },
  {
   "cell_type": "markdown",
   "id": "8bd26a52",
   "metadata": {},
   "source": [
    "1. **``Local Variable``** is defined as a type of variable declared within programming block or subroutines. It can only be used inside the subroutine or code block in which it is declared. The local variable exists until the block of the function is under execution. After that, it will be destroyed automatically."
   ]
  },
  {
   "cell_type": "code",
   "execution_count": 4,
   "id": "eb43cd7f",
   "metadata": {},
   "outputs": [],
   "source": [
    "def my_function():\n",
    "    x = 10  # Local variable\n",
    "    print(x)"
   ]
  },
  {
   "cell_type": "code",
   "execution_count": 5,
   "id": "7d190f79",
   "metadata": {},
   "outputs": [
    {
     "name": "stdout",
     "output_type": "stream",
     "text": [
      "10\n"
     ]
    },
    {
     "ename": "NameError",
     "evalue": "name 'x' is not defined",
     "output_type": "error",
     "traceback": [
      "\u001b[1;31m---------------------------------------------------------------------------\u001b[0m",
      "\u001b[1;31mNameError\u001b[0m                                 Traceback (most recent call last)",
      "\u001b[1;32m<ipython-input-5-dd5289c27b2e>\u001b[0m in \u001b[0;36m<module>\u001b[1;34m\u001b[0m\n\u001b[0;32m      1\u001b[0m \u001b[0mmy_function\u001b[0m\u001b[1;33m(\u001b[0m\u001b[1;33m)\u001b[0m  \u001b[1;31m# Output: 10\u001b[0m\u001b[1;33m\u001b[0m\u001b[1;33m\u001b[0m\u001b[0m\n\u001b[1;32m----> 2\u001b[1;33m \u001b[0mprint\u001b[0m\u001b[1;33m(\u001b[0m\u001b[0mx\u001b[0m\u001b[1;33m)\u001b[0m  \u001b[1;31m# NameError: name 'x' is not defined\u001b[0m\u001b[1;33m\u001b[0m\u001b[1;33m\u001b[0m\u001b[0m\n\u001b[0m",
      "\u001b[1;31mNameError\u001b[0m: name 'x' is not defined"
     ]
    }
   ],
   "source": [
    "my_function()  # Output: 10\n",
    "print(x)  # NameError: name 'x' is not defined"
   ]
  },
  {
   "cell_type": "markdown",
   "id": "5a5f419b",
   "metadata": {},
   "source": [
    "2. A **``Global Variable``** in the program is a variable defined outside the subroutine or function. It has a global scope means it holds its value throughout the lifetime of the program. Hence, it can be accessed throughout the program by any function defined within the program, unless it is shadowed."
   ]
  },
  {
   "cell_type": "code",
   "execution_count": 6,
   "id": "c8144f32",
   "metadata": {},
   "outputs": [
    {
     "name": "stdout",
     "output_type": "stream",
     "text": [
      "20\n",
      "20\n"
     ]
    }
   ],
   "source": [
    "y = 20  # Global variable\n",
    "\n",
    "def my_function():\n",
    "    print(y)  # Accessing global variable\n",
    "\n",
    "my_function()  # Output: 20\n",
    "print(y)  # Output: 20"
   ]
  },
  {
   "cell_type": "markdown",
   "id": "92d78446",
   "metadata": {},
   "source": [
    "### 6. How can you use the \"return\" statement in a Python function to return multiple values?\n",
    "**Ans:** In Python, you can use the return statement in a function to return multiple values by returning them as a tuple, a list, or any other iterable object. Here are a few ways to achieve this. "
   ]
  },
  {
   "cell_type": "code",
   "execution_count": 7,
   "id": "3508da64",
   "metadata": {},
   "outputs": [
    {
     "name": "stdout",
     "output_type": "stream",
     "text": [
      "(10, 20, 30)\n",
      "10 20 30\n"
     ]
    }
   ],
   "source": [
    "def get_values():\n",
    "    x = 10\n",
    "    y = 20\n",
    "    z = 30\n",
    "    return x, y, z\n",
    "\n",
    "result = get_values()\n",
    "print(result)  # Output: (10, 20, 30)\n",
    "\n",
    "a, b, c = get_values()\n",
    "print(a, b, c)  # Output: 10 20 30"
   ]
  },
  {
   "cell_type": "code",
   "execution_count": 8,
   "id": "2aca7354",
   "metadata": {},
   "outputs": [
    {
     "name": "stdout",
     "output_type": "stream",
     "text": [
      "[10, 20, 30]\n",
      "10 20 30\n"
     ]
    }
   ],
   "source": [
    "def get_values():\n",
    "    x = 10\n",
    "    y = 20\n",
    "    z = 30\n",
    "    return [x, y, z]\n",
    "\n",
    "result = get_values()\n",
    "print(result)  # Output: [10, 20, 30]\n",
    "\n",
    "a, b, c = get_values()\n",
    "print(a, b, c)  # Output: 10 20 30"
   ]
  },
  {
   "cell_type": "code",
   "execution_count": 9,
   "id": "f020c810",
   "metadata": {},
   "outputs": [
    {
     "name": "stdout",
     "output_type": "stream",
     "text": [
      "{10, 20, 30}\n",
      "10 20 30\n"
     ]
    }
   ],
   "source": [
    "def get_values():\n",
    "    x = 10\n",
    "    y = 20\n",
    "    z = 30\n",
    "    return {x, y, z}\n",
    "\n",
    "result = get_values()\n",
    "print(result)  # Output: {10, 20, 30}\n",
    "\n",
    "a, b, c = get_values()\n",
    "print(a, b, c)  # Output: 10 20 30"
   ]
  },
  {
   "cell_type": "markdown",
   "id": "3d0a4e0f",
   "metadata": {},
   "source": [
    "### 7. What is the difference between the \"pass by value\" and \"pass by reference\" concepts when it comes to function arguments in Python?\n",
    "**Ans:** \n",
    "\n",
    "1. **``Pass by Value:``**\n",
    "\n",
    "In a \"pass by value\" mechanism, a copy of the value of the variable is passed to the function.\n",
    "Modifications made to the function parameter inside the function do not affect the original variable outside the function.\n",
    "Assigning a new value to the function parameter inside the function does not impact the original variable."
   ]
  },
  {
   "cell_type": "code",
   "execution_count": 15,
   "id": "b0dd04bf",
   "metadata": {},
   "outputs": [
    {
     "name": "stdout",
     "output_type": "stream",
     "text": [
      "Before function call  100\n",
      "Inside function call  200\n",
      "After function call  100\n"
     ]
    }
   ],
   "source": [
    "def function(l):\n",
    "    l+=100\n",
    "    print(\"Inside function call \",l)\n",
    "\n",
    "l=100\n",
    "print(\"Before function call \",l)\n",
    "function(l)\n",
    "print(\"After function call \",l)"
   ]
  },
  {
   "cell_type": "markdown",
   "id": "fac2dc4f",
   "metadata": {},
   "source": [
    "2. **``Pass by Reference:``**\n",
    "\n",
    "In a \"pass by reference\" mechanism, a reference or memory address of the variable is passed to the function.\n",
    "Modifications made to the function parameter inside the function directly affect the original variable outside the function.\n",
    "Assigning a new value to the function parameter inside the function can change the original variable."
   ]
  },
  {
   "cell_type": "code",
   "execution_count": 14,
   "id": "d1cf970a",
   "metadata": {},
   "outputs": [
    {
     "name": "stdout",
     "output_type": "stream",
     "text": [
      "Before function call ['A']\n",
      "Inside function call ['A', 'B']\n",
      "After function call ['A', 'B']\n"
     ]
    }
   ],
   "source": [
    "def function(l):\n",
    "    l.append('B')\n",
    "    print(\"Inside function call\",l)\n",
    "    \n",
    "l=['A']\n",
    "print(\"Before function call\",l)\n",
    "function(l)\n",
    "print(\"After function call\",l)"
   ]
  },
  {
   "cell_type": "markdown",
   "id": "877b57af",
   "metadata": {},
   "source": [
    "### 8. Create a function that can intake integer or decimal value and do following operations:\n",
    "a. Logarithmic function (log x)\n",
    "b. Exponential function (exp(x))\n",
    "c. Power function with base 2 (2x)\n",
    "d. Square root\n",
    "\n",
    "**Ans:**"
   ]
  },
  {
   "cell_type": "code",
   "execution_count": 17,
   "id": "f982d6ee",
   "metadata": {},
   "outputs": [
    {
     "name": "stdout",
     "output_type": "stream",
     "text": [
      "Logarithmic value: 1.0986122886681098\n",
      "Exponential value: 20.085536923187668\n",
      "Power value: 8.0\n",
      "Square root value: 1.7320508075688772\n"
     ]
    }
   ],
   "source": [
    "import math\n",
    "\n",
    "def perform_operations(value):\n",
    "    logarithm = math.log(value)\n",
    "    exponential = math.exp(value)\n",
    "    power = math.pow(2, value)\n",
    "    square_root = math.sqrt(value)\n",
    "    \n",
    "    return logarithm, exponential, power, square_root\n",
    "\n",
    "result = perform_operations(3)\n",
    "print(\"Logarithmic value:\", result[0])\n",
    "print(\"Exponential value:\", result[1])\n",
    "print(\"Power value:\", result[2])\n",
    "print(\"Square root value:\", result[3])"
   ]
  },
  {
   "cell_type": "markdown",
   "id": "aa50bea1",
   "metadata": {},
   "source": [
    "### 9. Create a function that takes a full name as an argument and returns first name and last name.\n",
    "**Ans:**"
   ]
  },
  {
   "cell_type": "code",
   "execution_count": 18,
   "id": "b5a82cb1",
   "metadata": {},
   "outputs": [],
   "source": [
    "def extract_name(full_name):\n",
    "    names = full_name.split()\n",
    "    first_name = names[0]\n",
    "    last_name = names[-1]\n",
    "    return first_name, last_name"
   ]
  },
  {
   "cell_type": "code",
   "execution_count": 20,
   "id": "d06cba91",
   "metadata": {},
   "outputs": [
    {
     "name": "stdout",
     "output_type": "stream",
     "text": [
      "First Name: Neetu\n",
      "Last Name: Paul\n"
     ]
    }
   ],
   "source": [
    "fn, ln = extract_name(\"Neetu Paul\")\n",
    "\n",
    "print(\"First Name: \"+fn)\n",
    "print(\"Last Name: \"+ln)"
   ]
  }
 ],
 "metadata": {
  "kernelspec": {
   "display_name": "Python 3",
   "language": "python",
   "name": "python3"
  },
  "language_info": {
   "codemirror_mode": {
    "name": "ipython",
    "version": 3
   },
   "file_extension": ".py",
   "mimetype": "text/x-python",
   "name": "python",
   "nbconvert_exporter": "python",
   "pygments_lexer": "ipython3",
   "version": "3.8.8"
  }
 },
 "nbformat": 4,
 "nbformat_minor": 5
}
