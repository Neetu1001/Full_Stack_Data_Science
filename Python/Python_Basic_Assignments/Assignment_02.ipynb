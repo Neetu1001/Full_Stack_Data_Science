{
 "cells": [
  {
   "cell_type": "markdown",
   "id": "48f73579",
   "metadata": {},
   "source": [
    "## Assignment 2\n",
    "\n",
    "### Q1 What are the two values of the Boolean data type? How do you write them?\n",
    "\n",
    "**Ans:** Boolean is also one of the datatypes which are used to store information.\n",
    "Boolean Datatype store values such as True and False\n",
    "\n",
    "Definition of Boolean DataType\n",
    "t_boolean = True\n",
    "f_boolean = False"
   ]
  },
  {
   "cell_type": "code",
   "execution_count": 2,
   "id": "681a3ee6",
   "metadata": {},
   "outputs": [
    {
     "name": "stdout",
     "output_type": "stream",
     "text": [
      "A is 10\n"
     ]
    }
   ],
   "source": [
    "# The Boolean DataType is generally used in conditional statements\n",
    "a = 10\n",
    "if a == 10:\n",
    "    print('A is 10')\n",
    "else:\n",
    "    print('A is not equal to 10')"
   ]
  },
  {
   "cell_type": "markdown",
   "id": "cab4266e",
   "metadata": {},
   "source": [
    "In short:\n",
    "\n",
    "    if the \"IF\" condition is True then the following block is executed\n",
    "    else the \"ELSE\" block is executed"
   ]
  },
  {
   "cell_type": "markdown",
   "id": "6e4cf97b",
   "metadata": {},
   "source": [
    "### Q2 What are the three different types of Boolean operators?\n",
    "\n",
    "**Ans:** Basically there are 3 Boolean Operators:\n",
    "1. Logical AND (and)\n",
    "2. Logical OR (or)\n",
    "3. Logical NOT (not)"
   ]
  },
  {
   "cell_type": "markdown",
   "id": "4efa2bd6",
   "metadata": {},
   "source": [
    "### Q3 Make a list of each Boolean operator's truth tables (i.e. every possible combination of Boolean values for the operator and what it evaluate )."
   ]
  },
  {
   "cell_type": "code",
   "execution_count": 3,
   "id": "8c9b80b5",
   "metadata": {},
   "outputs": [
    {
     "name": "stdout",
     "output_type": "stream",
     "text": [
      "AND OPERATION\n",
      " A  B O/P\n",
      "[0, 0, 0]\n",
      "[0, 1, 0]\n",
      "[1, 0, 0]\n",
      "[1, 1, 1]\n",
      "\n",
      "OR OPERATION\n",
      " A  B O/P\n",
      "[0, 0, 0]\n",
      "[0, 1, 1]\n",
      "[1, 0, 1]\n",
      "[1, 1, 1]\n",
      "\n",
      "NOT OPERATION\n",
      " A O/P\n",
      "[0, 1]\n",
      "[1, 0]\n"
     ]
    }
   ],
   "source": [
    "and_list = [[0,0,0],[0,1,0],[1,0,0], [1,1,1]]\n",
    "print(\"AND OPERATION\\n A  B O/P\")\n",
    "for i in and_list:\n",
    "            print(i)\n",
    "\n",
    "or_list = [[0,0,0],[0,1,1],[1,0,1], [1,1,1]]\n",
    "print(\"\\nOR OPERATION\\n A  B O/P\")\n",
    "for i in or_list:\n",
    "            print(i)\n",
    "\n",
    "or_list = [[0,1],[1,0]]\n",
    "print(\"\\nNOT OPERATION\\n A O/P\")\n",
    "for i in or_list:\n",
    "            print(i)"
   ]
  },
  {
   "cell_type": "markdown",
   "id": "517928c1",
   "metadata": {},
   "source": [
    "### Q4 What are the values of the following expressions?\n",
    "\n",
    "    - (5 > 4) and (3 == 5) \n",
    "\n",
    "    - not (5 > 4)\n",
    "\n",
    "    - (5 > 4) or (3 == 5)\n",
    "\n",
    "    - not ((5 > 4) or (3 == 5))\n",
    "\n",
    "    - (True and True) and (True == False)\n",
    "\n",
    "    - (not False) or (not True)\n"
   ]
  },
  {
   "cell_type": "code",
   "execution_count": 4,
   "id": "19079a33",
   "metadata": {},
   "outputs": [
    {
     "name": "stdout",
     "output_type": "stream",
     "text": [
      "(5 > 4) and (3 == 5) --> False\n",
      "not (5 > 4) --> False\n",
      "(5 > 4) or (3 == 5) --> True\n",
      "not ((5 > 4) or (3 == 5)) --> False\n",
      "(True and True) and (True == False) --> False\n",
      "(not False) or (not True) --> True\n"
     ]
    }
   ],
   "source": [
    "print(f\"(5 > 4) and (3 == 5) --> {(5 > 4) and (3 == 5)}\")\n",
    "print(f\"not (5 > 4) --> {not (5 > 4)}\")\n",
    "print(f\"(5 > 4) or (3 == 5) --> {(5 > 4) or (3 == 5)}\")\n",
    "print(f\"not ((5 > 4) or (3 == 5)) --> {not ((5 > 4) or (3 == 5))}\")\n",
    "print(f\"(True and True) and (True == False) --> {(True and True) and (True == False)}\")\n",
    "print(f\"(not False) or (not True) --> {(not False) or (not True)}\")"
   ]
  },
  {
   "cell_type": "markdown",
   "id": "1d8485c6",
   "metadata": {},
   "source": [
    "### Q5 What are the six comparison operators?\n",
    "\n",
    "**Ans:** Comparision Operators are:\n",
    "\n",
    "    1. ==  --> Equal to Operator\n",
    "    2. !=  --> Not Equal to Operator\n",
    "\n",
    "    3. < --> Less than Operator\n",
    "    4. > --> Greater than Operator\n",
    "\n",
    "    5. <= --> Less than or Equal to Operator\n",
    "    6. >= --> Greater than or Equal to Operator\n"
   ]
  },
  {
   "cell_type": "markdown",
   "id": "f44dd7a3",
   "metadata": {},
   "source": [
    "### Q6 How do you tell the difference between the equal to and assignment operators?\n",
    "### Describe a condition and when you would use one\n",
    "\n",
    "**Ans:** The Basic Difference between the Equal to Operator and the Assignment Operator are as follows \n",
    "1. Equal to Operator is double equal to symbol (==) where as Assignment Operator has single equal to symbol (=).\n",
    "\n",
    "2. Equal to Operator is used for comparision purpose Whereas Assignment Operator is used for assigning values to the Variable\n"
   ]
  },
  {
   "cell_type": "code",
   "execution_count": 5,
   "id": "2edd835a",
   "metadata": {},
   "outputs": [
    {
     "name": "stdout",
     "output_type": "stream",
     "text": [
      "Value of a is 10\n"
     ]
    }
   ],
   "source": [
    "a = 10 # Assignment Operator Statement\n",
    "\n",
    "# This is example of Equal to Operator\n",
    "if a == 10:\n",
    "    print('Value of a is 10')\n",
    "else:\n",
    "    print('Value of a is not equal to 10')"
   ]
  },
  {
   "cell_type": "markdown",
   "id": "ec2d2231",
   "metadata": {},
   "source": [
    "### Q7 Identify the three blocks in this code:\n",
    "\n",
    "    spam = 0\n",
    "    if spam == 10:\n",
    "        print(\"eggs\")\n",
    "\n",
    "    if spam > 5:\n",
    "        print(\"bacon\")\n",
    "    else:\n",
    "        print(\"ham\")\n",
    "        print(\"spam\")\n",
    "        print(\"spam\")"
   ]
  },
  {
   "cell_type": "code",
   "execution_count": 6,
   "id": "c2ae4642",
   "metadata": {},
   "outputs": [
    {
     "name": "stdout",
     "output_type": "stream",
     "text": [
      "ham\n",
      "spam\n",
      "spam\n"
     ]
    }
   ],
   "source": [
    "# FIRST BLOCK OF CODE\n",
    "spam = 0  # Assignment Operation \n",
    "\n",
    "# SECOND BLOCK OF CODE\n",
    "if spam == 10:     # If Condition\n",
    "    print(\"eggs\")  \n",
    "\n",
    "# THIRD BLOCK OF CODE\n",
    "if spam > 5:    # Condition Checking with IF-ELSE Block\n",
    "    print(\"bacon\")\n",
    "else:\n",
    "    print(\"ham\")\n",
    "    print(\"spam\")\n",
    "    print(\"spam\")\n"
   ]
  },
  {
   "cell_type": "markdown",
   "id": "a74707a4",
   "metadata": {},
   "source": [
    "### Q8 Write code that\n",
    "    \n",
    "    prints Hello if 1 is stored in spam, \n",
    "\n",
    "    prints Howdy if 2 is stored in spam, \n",
    "\n",
    "    and prints Greetings! if anything else is stored in spam."
   ]
  },
  {
   "cell_type": "code",
   "execution_count": 8,
   "id": "51b48bda",
   "metadata": {},
   "outputs": [
    {
     "name": "stdout",
     "output_type": "stream",
     "text": [
      "Enter Any Number: 2\n",
      "Howdy\n"
     ]
    }
   ],
   "source": [
    "spam = int(input(\"Enter Any Number: \"))\n",
    "\n",
    "if spam == 1:\n",
    "    print(\"Hello\")\n",
    "if spam == 2:\n",
    "    print(\"Howdy\")\n",
    "else:\n",
    "    print(\"Greetings!\")"
   ]
  },
  {
   "cell_type": "markdown",
   "id": "8e070760",
   "metadata": {},
   "source": [
    "### Q10 How can you tell the difference between break and continue?\n",
    "\n",
    "**Ans:** **Break**: statement breaks or leave the execution of the conditional loop execution.\n",
    "\n",
    "**Continue:** When continue comes in the conditional loop, it leaves the current iteration values for execution BUT continues from the next iterable object"
   ]
  },
  {
   "cell_type": "code",
   "execution_count": 9,
   "id": "757c0286",
   "metadata": {},
   "outputs": [
    {
     "name": "stdout",
     "output_type": "stream",
     "text": [
      "Current Value of i = 1\n",
      "Current Value of i = 2\n",
      "Current Value of i = 3\n",
      "Current Value of i = 4\n"
     ]
    }
   ],
   "source": [
    "list_break = [1,2,3,4,5,6]\n",
    "\n",
    "for i in list_break:\n",
    "    if i == 5:\n",
    "        break\n",
    "    else:\n",
    "        print(f\"Current Value of i = {i}\")"
   ]
  },
  {
   "cell_type": "code",
   "execution_count": 10,
   "id": "83c787c6",
   "metadata": {},
   "outputs": [
    {
     "name": "stdout",
     "output_type": "stream",
     "text": [
      "Current Value of i = 1\n",
      "Current Value of i = 2\n",
      "Current Value of i = 3\n",
      "Current Value of i = 4\n",
      "Current Value of i = 6\n"
     ]
    }
   ],
   "source": [
    "list_continue = [1,2,3,4,5,6]\n",
    "\n",
    "for i in list_break:\n",
    "    if i == 5:\n",
    "        continue\n",
    "    else:\n",
    "        print(f\"Current Value of i = {i}\")"
   ]
  },
  {
   "cell_type": "markdown",
   "id": "87e10191",
   "metadata": {},
   "source": [
    "### Q11 In a for loop, what is the difference between range(10), range(0, 10), and range(0, 10, 1)?¶\n",
    "\n",
    "**Ans:** There is no difference in \n",
    "    range(10)\n",
    "    range(0,10)\n",
    "    range(0,10,1)\n",
    "\n",
    "as the range can be defined as\n",
    "\n",
    "    range(End_value) if 1 input are provided to the range parameter\n",
    "\n",
    "    range(initial_Value, End_value) if 2 inputs are provided to the range parameter\n",
    "\n",
    "    range(initial_Value, End_value, Jump_value) if 3 inputs are provided to the range parameter\n",
    "\n",
    "\n",
    "Now, if No start value is provided to the range parameter By Default 0 is considered as the initial value\n",
    "\n",
    "Also, is no jump value is provided to the range parameter By Default 1 is considered as the jump value\n"
   ]
  },
  {
   "cell_type": "code",
   "execution_count": 11,
   "id": "2894a12a",
   "metadata": {},
   "outputs": [
    {
     "name": "stdout",
     "output_type": "stream",
     "text": [
      "Current Value of i = 0\n",
      "Current Value of i = 1\n",
      "Current Value of i = 2\n",
      "Current Value of i = 3\n",
      "Current Value of i = 4\n",
      "\n",
      "Current Value of i = 0\n",
      "Current Value of i = 1\n",
      "Current Value of i = 2\n",
      "Current Value of i = 3\n",
      "Current Value of i = 4\n",
      "\n",
      "Current Value of i = 0\n",
      "Current Value of i = 1\n",
      "Current Value of i = 2\n",
      "Current Value of i = 3\n",
      "Current Value of i = 4\n"
     ]
    }
   ],
   "source": [
    "# Example\n",
    "\n",
    "for i in range(5):\n",
    "    print(f'Current Value of i = {i}')\n",
    "\n",
    "print(\"\") # NOT FOR ANY USE\n",
    "\n",
    "for i in range(0,5):\n",
    "    print(f'Current Value of i = {i}')\n",
    "\n",
    "print(\"\") # NOT FOR ANY USE\n",
    "\n",
    "for i in range(0,5,1):\n",
    "    print(f'Current Value of i = {i}')"
   ]
  },
  {
   "cell_type": "markdown",
   "id": "bd208197",
   "metadata": {},
   "source": [
    "### Q12 Write a short program that prints the numbers 1 to 10 using a for loop. Then write an equivalent program that prints the numbers 1 to 10 using a while loop"
   ]
  },
  {
   "cell_type": "code",
   "execution_count": 12,
   "id": "a032e097",
   "metadata": {},
   "outputs": [
    {
     "name": "stdout",
     "output_type": "stream",
     "text": [
      "USING FOR LOOP\n",
      "0\n",
      "1\n",
      "2\n",
      "3\n",
      "4\n",
      "5\n",
      "6\n",
      "7\n",
      "8\n",
      "9\n",
      "\n",
      "USING WHILE LOOP\n",
      "0\n",
      "1\n",
      "2\n",
      "3\n",
      "4\n",
      "5\n",
      "6\n",
      "7\n",
      "8\n",
      "9\n"
     ]
    }
   ],
   "source": [
    "print('USING FOR LOOP')\n",
    "for i in range(10):\n",
    "    print(i)\n",
    "\n",
    "print('\\nUSING WHILE LOOP')\n",
    "a=0\n",
    "while a < 10:\n",
    "    print(a)\n",
    "    a=a+1"
   ]
  },
  {
   "cell_type": "markdown",
   "id": "f180d765",
   "metadata": {},
   "source": [
    "### Q13 If you had a function named bacon() inside a module named spam, how would you call it after importing spam?"
   ]
  },
  {
   "cell_type": "markdown",
   "id": "2b72af50",
   "metadata": {},
   "source": [
    "DEFINING the MODULE\n",
    "\n",
    "    import spam\n",
    "\n",
    "CALLING the bacon function\n",
    "\n",
    "    a = spam.bacon()"
   ]
  },
  {
   "cell_type": "code",
   "execution_count": null,
   "id": "d43ebd3a",
   "metadata": {},
   "outputs": [],
   "source": []
  }
 ],
 "metadata": {
  "kernelspec": {
   "display_name": "Python 3",
   "language": "python",
   "name": "python3"
  },
  "language_info": {
   "codemirror_mode": {
    "name": "ipython",
    "version": 3
   },
   "file_extension": ".py",
   "mimetype": "text/x-python",
   "name": "python",
   "nbconvert_exporter": "python",
   "pygments_lexer": "ipython3",
   "version": "3.8.8"
  }
 },
 "nbformat": 4,
 "nbformat_minor": 5
}
