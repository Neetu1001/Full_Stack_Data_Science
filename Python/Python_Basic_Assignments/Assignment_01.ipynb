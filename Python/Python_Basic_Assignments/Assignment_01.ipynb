{
 "cells": [
  {
   "cell_type": "markdown",
   "id": "17b25ec3",
   "metadata": {},
   "source": [
    "## Assignment 1\n",
    "\n",
    "### 1. In the below elements which of them are values or an expression? eg:- values can be integer or string and expressions will be mathematical operators.\n",
    "*,'hello', -87.8,-,/,+,6\n",
    "\n",
    "**Ans**: There are a total of 4 Operators and 3 Expressions, They are:\n",
    "\n",
    "1. '*'     --> is a Expression (Multiplication Operator)\n",
    "2. \"Hello\" --> is a Value (String DataType)\n",
    "3. -87.8   --> is a Value (Negative Integer)\n",
    "4. '-'     --> is a Expression (Subtraction Operator)\n",
    "5. /       --> is a Expression (Division Operator)\n",
    "6. '+'     --> is a Expression (Addition Operator)\n",
    "7. 6       --> is a Value (Positive Integer)"
   ]
  },
  {
   "cell_type": "markdown",
   "id": "0cbe52e6",
   "metadata": {},
   "source": [
    "### 2. What is the difference between string and variable?\n",
    "**Ans:** A **Variable** is a store of information/ values. It can store data of any kind like int, float, complex str, tuples, list and many more.  \n",
    "\n",
    "**String** is a type of information you would store in a Variable. A String is usually words, enclosed with \"\"\n"
   ]
  },
  {
   "cell_type": "code",
   "execution_count": 1,
   "id": "6bc48c37",
   "metadata": {},
   "outputs": [],
   "source": [
    "# X is the Variable, and we declared it as a String, use the single = to \n",
    "# assign the text to it.\n",
    "\n",
    "Stringx = \"Welcome\""
   ]
  },
  {
   "cell_type": "markdown",
   "id": "dd6dc654",
   "metadata": {},
   "source": [
    "### 3. Describe three different Data Types ?\n",
    "\n",
    "**Ans:** Three fundamental Data types in python are int, float, complex, str.\n",
    "\n",
    "1. **int data type**: We can use int data type to represent whole numbers (integral values)\n",
    "2. **float data type**: We can use float data type to represent floating point values (decimal values)\n",
    "3. **complex data type:** Complex number is represented by complex class. It is specified as (real part) + (imaginary part)j.\n",
    "4. **str data type**: We can use str data type to represent group of characters or a single character usually enclosed in Double quotes \" \" or single quotes ' '"
   ]
  },
  {
   "cell_type": "code",
   "execution_count": 2,
   "id": "92613a36",
   "metadata": {},
   "outputs": [
    {
     "name": "stdout",
     "output_type": "stream",
     "text": [
      "4567 <class 'int'>\n",
      "1200.0 <class 'float'>\n",
      "(10+1.5j) <class 'complex'>\n",
      "neetu <class 'str'>\n"
     ]
    }
   ],
   "source": [
    "# Example for int data type\n",
    "int_num=4567\n",
    "print(int_num, type(int_num))\n",
    "\n",
    "# Example for float data type\n",
    "flo_num=1.2e3\n",
    "print(flo_num, type(flo_num))\n",
    "\n",
    "# Example for Complex data type\n",
    "com_num=10+1.5j\n",
    "print(com_num, type(com_num))\n",
    "\n",
    "# Example for str data type\n",
    "com_num=\"neetu\"\n",
    "print(com_num, type(com_num))"
   ]
  },
  {
   "cell_type": "markdown",
   "id": "77c86a1b",
   "metadata": {},
   "source": [
    "### 4. What is an expression made up of? What do all expressions do?\n",
    "**Ans:** An expression is a combination of values, variables, operators, and calls to functions. Expressions need to be evaluated. If we ask Python to print an expression, the interpreter evaluates the expression and displays the result."
   ]
  },
  {
   "cell_type": "code",
   "execution_count": 4,
   "id": "77db40ad",
   "metadata": {},
   "outputs": [
    {
     "data": {
      "text/plain": [
       "0"
      ]
     },
     "execution_count": 4,
     "metadata": {},
     "output_type": "execute_result"
    }
   ],
   "source": [
    "4*5+20-40 # Is an Expression, The Python Interpreter Evaluates it to 0"
   ]
  },
  {
   "cell_type": "markdown",
   "id": "153823d4",
   "metadata": {},
   "source": [
    "### 5.This assignment statements, like spam = 10. What is the difference between an expression and a statement?\n",
    "\n",
    "**Ans:** \n",
    "1. A statement in Python is used for creating variables or for displaying values. The expression in Python produces some value or result after being interpreted by the Python interpreter.\n",
    "2. A statement in Python is not evaluated for some results. An expression in Python is evaluated for some results.\n",
    "3. The execution of a statement changes the state of the variable. The expression evaluation does not result in any state change.\n",
    "4. A statement can be an expression. An expression is not a statement."
   ]
  },
  {
   "cell_type": "code",
   "execution_count": 7,
   "id": "de128eda",
   "metadata": {},
   "outputs": [
    {
     "name": "stdout",
     "output_type": "stream",
     "text": [
      "35\n"
     ]
    }
   ],
   "source": [
    "x = 25          # a statement\n",
    "x = x + 10      # an expression\n",
    "\n",
    "print(x)"
   ]
  },
  {
   "cell_type": "markdown",
   "id": "510e8c52",
   "metadata": {},
   "source": [
    "### 6.After running the following code, what does the variable bacon contain?\n",
    "\n",
    "bacon = 22\n",
    "\n",
    "bacon + 1\n",
    "\n",
    "**Ans:** "
   ]
  },
  {
   "cell_type": "code",
   "execution_count": 8,
   "id": "6066c613",
   "metadata": {},
   "outputs": [
    {
     "data": {
      "text/plain": [
       "22"
      ]
     },
     "execution_count": 8,
     "metadata": {},
     "output_type": "execute_result"
    }
   ],
   "source": [
    "bacon = 22\n",
    "bacon"
   ]
  },
  {
   "cell_type": "code",
   "execution_count": 9,
   "id": "b808e7b8",
   "metadata": {},
   "outputs": [
    {
     "data": {
      "text/plain": [
       "23"
      ]
     },
     "execution_count": 9,
     "metadata": {},
     "output_type": "execute_result"
    }
   ],
   "source": [
    "bacon + 1"
   ]
  },
  {
   "cell_type": "markdown",
   "id": "6c871133",
   "metadata": {},
   "source": [
    "### 7. What should the values of the following two terms be?\n",
    "'spam' + 'spamspam'\n",
    "\n",
    "'spam' * 3\n",
    "\n",
    "**Ans:**"
   ]
  },
  {
   "cell_type": "code",
   "execution_count": 10,
   "id": "9c0f49a9",
   "metadata": {},
   "outputs": [
    {
     "data": {
      "text/plain": [
       "'spamspamspam'"
      ]
     },
     "execution_count": 10,
     "metadata": {},
     "output_type": "execute_result"
    }
   ],
   "source": [
    "'spam' + 'spamspam'"
   ]
  },
  {
   "cell_type": "code",
   "execution_count": 11,
   "id": "1a7cbcc6",
   "metadata": {},
   "outputs": [
    {
     "data": {
      "text/plain": [
       "'spamspamspam'"
      ]
     },
     "execution_count": 11,
     "metadata": {},
     "output_type": "execute_result"
    }
   ],
   "source": [
    "'spam'* 3"
   ]
  },
  {
   "cell_type": "markdown",
   "id": "a744df5d",
   "metadata": {},
   "source": [
    "Addition operator of string Multiplication operator of string and integer."
   ]
  },
  {
   "cell_type": "markdown",
   "id": "dbc04bca",
   "metadata": {},
   "source": [
    "### Q8 Why is eggs a valid variable name while 100 is invalid?\n",
    "\n",
    "**Ans:** To define are variable name there are some rules defined\n",
    "1. Variable Name should start with a letter or an underscore\n",
    "2. It shouldn`t start with a numbers\n",
    "3. Variable Name can contain aplhabet a-z,A-Z and numbers from 0-9 \n",
    "   An underscore can also be used\n",
    "\n",
    "4. Python VariableName are case sensitive in nature\n",
    "   For Example:\n",
    "        abc,  Abc, ABC\n",
    "        All these are 3 different variable names\n",
    "\n",
    "Therefore, egg is a valid variable name and 100 is invalid variable name\n"
   ]
  },
  {
   "cell_type": "markdown",
   "id": "354cd2d4",
   "metadata": {},
   "source": [
    "### Q9 What three functions can be used to get the integer, floating-point number, or string version of a value?\n",
    "\n",
    "**Ans:**\n",
    "    \n",
    "    int()\n",
    "    float()\n",
    "    str()\n",
    "\n",
    "These are the three functions which is used to get Integer, FLoating-Point Number and String Version of a Value\n",
    "\n",
    "Example:"
   ]
  },
  {
   "cell_type": "code",
   "execution_count": 12,
   "id": "962c7a5a",
   "metadata": {},
   "outputs": [
    {
     "name": "stdout",
     "output_type": "stream",
     "text": [
      "Integer Value: 10\n",
      "DataType: <class 'int'> \n",
      "\n",
      "Float Value: 10.0\n",
      "DataType: <class 'float'>\n",
      "\n",
      "Integer Value: 10\n",
      "DataType: <class 'str'>\n"
     ]
    }
   ],
   "source": [
    "x = 10\n",
    "\n",
    "x_int = int(x)\n",
    "print(f'Integer Value: {x_int}')\n",
    "print(f'DataType: {type(x_int)} \\n')\n",
    "\n",
    "x_float = float(x)\n",
    "print(f'Float Value: {x_float}')\n",
    "print(f'DataType: {type(x_float)}\\n')\n",
    "\n",
    "x_string = str(x)\n",
    "print(f'Integer Value: {x_string}')\n",
    "print(f'DataType: {type(x_string)}')"
   ]
  },
  {
   "cell_type": "markdown",
   "id": "8d5a5187",
   "metadata": {},
   "source": [
    "### Q10 Why does this expression cause an error? How can you fix it?\n",
    "'I have eaten ' + 99 + 'burritos.'"
   ]
  },
  {
   "cell_type": "code",
   "execution_count": 13,
   "id": "0c00569a",
   "metadata": {},
   "outputs": [
    {
     "ename": "TypeError",
     "evalue": "can only concatenate str (not \"int\") to str",
     "output_type": "error",
     "traceback": [
      "\u001b[1;31m---------------------------------------------------------------------------\u001b[0m",
      "\u001b[1;31mTypeError\u001b[0m                                 Traceback (most recent call last)",
      "Cell \u001b[1;32mIn[13], line 1\u001b[0m\n\u001b[1;32m----> 1\u001b[0m \u001b[38;5;124;43m'\u001b[39;49m\u001b[38;5;124;43mI have eaten \u001b[39;49m\u001b[38;5;124;43m'\u001b[39;49m\u001b[43m \u001b[49m\u001b[38;5;241;43m+\u001b[39;49m\u001b[43m \u001b[49m\u001b[38;5;241;43m99\u001b[39;49m \u001b[38;5;241m+\u001b[39m \u001b[38;5;124m'\u001b[39m\u001b[38;5;124mburritos.\u001b[39m\u001b[38;5;124m'\u001b[39m\n",
      "\u001b[1;31mTypeError\u001b[0m: can only concatenate str (not \"int\") to str"
     ]
    }
   ],
   "source": [
    "'I have eaten ' + 99 + 'burritos.'"
   ]
  },
  {
   "cell_type": "markdown",
   "id": "3499e181",
   "metadata": {},
   "source": [
    "This is because this is a str int str concatenation\n",
    "AND\n",
    "This is not possible because the data type of concatenation is different\n",
    "\n",
    "Concatenation of str str is possible\n",
    "COncatenation of int int is possible\n",
    "\n",
    "This can be fixed when we convert the integer type to string datatype"
   ]
  },
  {
   "cell_type": "code",
   "execution_count": 14,
   "id": "9c4a4d52",
   "metadata": {},
   "outputs": [
    {
     "data": {
      "text/plain": [
       "'I have eaten 99 burritos.'"
      ]
     },
     "execution_count": 14,
     "metadata": {},
     "output_type": "execute_result"
    }
   ],
   "source": [
    "# Method 1\n",
    "'I have eaten ' + str(99) + ' burritos.'\n",
    "\n",
    "# Method 2\n",
    "'I have eaten ' + \"99\" + ' burritos.'"
   ]
  }
 ],
 "metadata": {
  "kernelspec": {
   "display_name": "Python 3",
   "language": "python",
   "name": "python3"
  },
  "language_info": {
   "codemirror_mode": {
    "name": "ipython",
    "version": 3
   },
   "file_extension": ".py",
   "mimetype": "text/x-python",
   "name": "python",
   "nbconvert_exporter": "python",
   "pygments_lexer": "ipython3",
   "version": "3.8.8"
  }
 },
 "nbformat": 4,
 "nbformat_minor": 5
}
