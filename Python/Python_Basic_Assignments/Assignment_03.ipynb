{
 "cells": [
  {
   "cell_type": "markdown",
   "id": "b68e34f6",
   "metadata": {},
   "source": [
    "## Assignment 3\n",
    "\n",
    "### 1. Why are functions advantageous to have in your programs?\n",
    "\n",
    "**Ans:** Pros of using Functions\n",
    "\n",
    "1. Duplication of the code is reduced.\n",
    "2. Increase the readability and modularity of the program.\n",
    "3. Modification of the program becomes easier\n",
    "4. Reduces the chances of error."
   ]
  },
  {
   "cell_type": "markdown",
   "id": "25af0b80",
   "metadata": {},
   "source": [
    "### 2. When does the code in a function run: when it's specified or when it's called?\n",
    "\n",
    "**Ans:** The function is executed when the function is called"
   ]
  },
  {
   "cell_type": "markdown",
   "id": "264d5175",
   "metadata": {},
   "source": [
    "### 3. What statement creates a function?\n",
    "\n",
    "**Ans:** This creates the function completely\n",
    "\n",
    "Syntax:\n",
    "\n",
    "    def function_name():\n",
    "        body_of_function"
   ]
  },
  {
   "cell_type": "code",
   "execution_count": 2,
   "id": "69bb1da8",
   "metadata": {},
   "outputs": [],
   "source": [
    "def func():\n",
    "    print(\"neetu\")"
   ]
  },
  {
   "cell_type": "code",
   "execution_count": 3,
   "id": "5e53e362",
   "metadata": {},
   "outputs": [
    {
     "name": "stdout",
     "output_type": "stream",
     "text": [
      "neetu\n"
     ]
    }
   ],
   "source": [
    "func()"
   ]
  },
  {
   "cell_type": "markdown",
   "id": "27c5d5e6",
   "metadata": {},
   "source": [
    "### 4. What is the difference between a function and a function call?\n",
    "\n",
    "**Ans:** **Function** is a way or precedure to achieve a particular result\n",
    "    \n",
    "    While\n",
    "    \n",
    "**Function Call** uses the function to execute the block of code present within the function"
   ]
  },
  {
   "cell_type": "markdown",
   "id": "68527221",
   "metadata": {},
   "source": [
    "### 5. How many global scopes are there in a Python program? How many local scopes?\n",
    "\n",
    "**Ans:** There is only **one global scope** in Python program.\n",
    "The scope of the global variable is present within the entire program\n",
    "\n",
    "The **Local variable** is temporarily created when the function is executed.\n",
    "The scope of the local variable is limited to the function.\n"
   ]
  },
  {
   "cell_type": "markdown",
   "id": "deb9d026",
   "metadata": {},
   "source": [
    "### 6. What happens to variables in a local scope when the function call returns?\n",
    "\n",
    "**Ans:** When a function is called, the local variable is temporarily created.\n",
    "\n",
    "As soon as the function returns, the local scope is destroyed and the variable no longer exists.\n",
    "\n",
    "We cannot access the that variable outside the function"
   ]
  },
  {
   "cell_type": "markdown",
   "id": "130f267b",
   "metadata": {},
   "source": [
    "### 7. What is the concept of a return value? Is it possible to have a return value in an expression?\n",
    "\n",
    "**Ans:** The return is a value: that the function returns, results after executing the block of statements (when the function completes the entire execution).\n",
    "\n",
    "The return value can be of any types depending largely upon the operation perfomed within the function.\n",
    "It can be int, float, string, list and many more"
   ]
  },
  {
   "cell_type": "markdown",
   "id": "ee5c8883",
   "metadata": {},
   "source": [
    "### 8. If a function does not have a return statement, what is the return value of a call to that function?\n",
    "\n",
    "**Ans:** If the function does have a return statement, it returns value is **NONE** type"
   ]
  },
  {
   "cell_type": "markdown",
   "id": "48181f4d",
   "metadata": {},
   "source": [
    "### 9. How do you make a function variable refer to the global variable?\n",
    "\n",
    "**Ans:** Variables that are created or defined outside the function are **Global Variables**\n",
    "\n",
    "Global Variables can be used anywhere within the program i.e. both inside or outside the function"
   ]
  },
  {
   "cell_type": "code",
   "execution_count": 4,
   "id": "beb7f3df",
   "metadata": {},
   "outputs": [
    {
     "name": "stdout",
     "output_type": "stream",
     "text": [
      "10\n"
     ]
    }
   ],
   "source": [
    "# Globally Defining the variable\n",
    "x = 10\n",
    "# Defining the function\n",
    "def func():\n",
    "    print(x)\n",
    "# Calling the function\n",
    "func()"
   ]
  },
  {
   "cell_type": "code",
   "execution_count": 6,
   "id": "bf7664e6",
   "metadata": {},
   "outputs": [
    {
     "name": "stdout",
     "output_type": "stream",
     "text": [
      "Neetu\n"
     ]
    }
   ],
   "source": [
    "# Defining the global Variable inside the Function and calling it outside\n",
    "def func1():\n",
    "    global abc \n",
    "    abc = 'Neetu'\n",
    "func1()\n",
    "print(abc)"
   ]
  },
  {
   "cell_type": "markdown",
   "id": "db44c2c3",
   "metadata": {},
   "source": [
    "### 10. What is the data type of None?\n",
    "\n",
    "**Ans:** In Python, None is a special value that represents the absence of a value or a null value. It is an object of its own type, called NoneType"
   ]
  },
  {
   "cell_type": "code",
   "execution_count": 8,
   "id": "6e499292",
   "metadata": {},
   "outputs": [
    {
     "data": {
      "text/plain": [
       "NoneType"
      ]
     },
     "execution_count": 8,
     "metadata": {},
     "output_type": "execute_result"
    }
   ],
   "source": [
    "type(None)"
   ]
  },
  {
   "cell_type": "markdown",
   "id": "8b30e719",
   "metadata": {},
   "source": [
    "### 11. What does the sentence import areallyourpetsnamederic do?\n",
    "\n",
    "**Ans:** The import statement imports a module named areallyourpetsnamederic\n",
    "\n",
    "### 12. If you had a bacon() feature in a spam module, what would you call it after importing spam?\n",
    "\n",
    "**Ans:**   \n",
    "\n",
    "    # Importing the Module\n",
    "        import spam\n",
    "    # Calling the Feature/Function\n",
    "        spam.bacon()\n",
    "        \n",
    "### 13. What can you do to save a programme from crashing if it encounters an error?\n",
    "\n",
    "**Ans:** Use the concept of Exception Handling i.e. **TRY-EXCEPT Block**"
   ]
  },
  {
   "cell_type": "markdown",
   "id": "a8bb34b5",
   "metadata": {},
   "source": [
    "### 14. What is the purpose of the try clause? What is the purpose of the except clause?\n",
    "\n",
    "**Ans:** **Try**: Write the suspected line of code within the Try Block\n",
    "\n",
    "**Except**: Error occured in the try block is handled by the except block"
   ]
  }
 ],
 "metadata": {
  "kernelspec": {
   "display_name": "Python 3",
   "language": "python",
   "name": "python3"
  },
  "language_info": {
   "codemirror_mode": {
    "name": "ipython",
    "version": 3
   },
   "file_extension": ".py",
   "mimetype": "text/x-python",
   "name": "python",
   "nbconvert_exporter": "python",
   "pygments_lexer": "ipython3",
   "version": "3.8.8"
  }
 },
 "nbformat": 4,
 "nbformat_minor": 5
}
