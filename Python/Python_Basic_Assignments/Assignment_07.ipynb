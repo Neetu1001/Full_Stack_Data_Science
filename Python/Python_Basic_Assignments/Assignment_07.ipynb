{
 "cells": [
  {
   "cell_type": "markdown",
   "id": "1a3697b3",
   "metadata": {},
   "source": [
    "## Assignment 7\n",
    "\n",
    "### Q.1. Create two int type variables, apply addition, subtraction, division and multiplications and store the results in variables. Then print the data in the following format by calling the variables:\n",
    "\n",
    "    First variable is __ & second variable is __.\n",
    "    Addition: __ + __ = __\n",
    "    Subtraction: __ - __ = __\n",
    "    Multiplication: __ * __ = __\n",
    "    Division: __ / __ = __"
   ]
  },
  {
   "cell_type": "code",
   "execution_count": 1,
   "id": "b14fb8c8",
   "metadata": {},
   "outputs": [
    {
     "name": "stdout",
     "output_type": "stream",
     "text": [
      "First variable is 10 & second variable is 5\n",
      "Addition: 10 + 5 = 15\n",
      "Subtraction: 10 - 5 = 5\n",
      "Multiplication: 10 * 5 = 50\n",
      "Division: 10 / 5 = 2.0\n"
     ]
    }
   ],
   "source": [
    "# Create two integer variables\n",
    "num1 = 10\n",
    "num2 = 5\n",
    "\n",
    "# Perform arithmetic operations and store the results\n",
    "addition = num1 + num2\n",
    "subtraction = num1 - num2\n",
    "multiplication = num1 * num2\n",
    "division = num1 / num2\n",
    "\n",
    "# Print the results in the desired format\n",
    "print(\"First variable is\", num1, \"& second variable is\", num2)\n",
    "print(\"Addition:\", num1, \"+\", num2, \"=\", addition)\n",
    "print(\"Subtraction:\", num1, \"-\", num2, \"=\", subtraction)\n",
    "print(\"Multiplication:\", num1, \"*\", num2, \"=\", multiplication)\n",
    "print(\"Division:\", num1, \"/\", num2, \"=\", division)"
   ]
  },
  {
   "cell_type": "markdown",
   "id": "9dc19678",
   "metadata": {},
   "source": [
    "### Q.2. What is the difference between the following operators:\n",
    "\n",
    "    (i) ‘/’ & ‘//’\n",
    "    (ii) ‘**’ & ‘^’"
   ]
  },
  {
   "cell_type": "markdown",
   "id": "864c8d33",
   "metadata": {},
   "source": [
    "(i) **Difference between '/' and '//':**\n",
    "\n",
    "* '/' is the division operator in Python. It performs normal division and returns the quotient as a float, even if the result is a whole number.\n",
    "* '//' is the floor division operator in Python. It performs division and returns the quotient as an integer, discarding the decimal part (flooring the result)."
   ]
  },
  {
   "cell_type": "code",
   "execution_count": 2,
   "id": "a7506d37",
   "metadata": {},
   "outputs": [
    {
     "name": "stdout",
     "output_type": "stream",
     "text": [
      "3.3333333333333335\n",
      "3\n"
     ]
    }
   ],
   "source": [
    "a = 10\n",
    "b = 3\n",
    "\n",
    "result1 = a / b  # Normal division\n",
    "result2 = a // b  # Floor division\n",
    "\n",
    "print(result1)  # Output: 3.3333333333333335\n",
    "print(result2)  # Output: 3"
   ]
  },
  {
   "cell_type": "markdown",
   "id": "93d3de00",
   "metadata": {},
   "source": [
    "(ii) **Difference between '**' and '^':**\n",
    "\n",
    "* '**' is the exponentiation operator in Python. It raises a number to the power of another number.\n",
    "* '^' is not a built-in operator in Python for exponentiation. Instead, it is used as the bitwise XOR operator for integer values."
   ]
  },
  {
   "cell_type": "code",
   "execution_count": 3,
   "id": "629a9da4",
   "metadata": {},
   "outputs": [
    {
     "name": "stdout",
     "output_type": "stream",
     "text": [
      "8\n"
     ]
    }
   ],
   "source": [
    "a = 2\n",
    "b = 3\n",
    "\n",
    "result1 = a ** b  # Exponentiation\n",
    "\n",
    "print(result1)  # Output: 8\n"
   ]
  },
  {
   "cell_type": "markdown",
   "id": "5eeca79b",
   "metadata": {},
   "source": [
    "### Q.3. List the logical operators.\n",
    "\n",
    "**Ans:** In Python, the logical operators are used to perform logical operations on boolean values (True or False). Here are the logical operators in Python:\n",
    "\n",
    "* **``AND (and)``**: The and operator returns True if both operands are True, and False otherwise. It performs a logical AND operation.\n",
    "\n",
    "* **``OR (or)``**: The or operator returns True if at least one of the operands is True, and False if both operands are False. It performs a logical OR operation.\n",
    "\n",
    "* **``NOT (not)``**: The not operator is a unary operator that returns the opposite of the operand's logical value. If the operand is True, not returns False, and if the operand is False, not returns True. It performs a logical NOT operation."
   ]
  },
  {
   "cell_type": "code",
   "execution_count": 4,
   "id": "b1cdf64b",
   "metadata": {},
   "outputs": [
    {
     "name": "stdout",
     "output_type": "stream",
     "text": [
      "False\n",
      "True\n",
      "False\n"
     ]
    }
   ],
   "source": [
    "x = 5\n",
    "y = 10\n",
    "z = 7\n",
    "\n",
    "# Logical AND\n",
    "print(x < y and y < z)  # Output: False\n",
    "\n",
    "# Logical OR\n",
    "print(x < y or y < z)  # Output: True\n",
    "\n",
    "# Logical NOT\n",
    "print(not x < y)  # Output: False"
   ]
  },
  {
   "cell_type": "markdown",
   "id": "57f57ba3",
   "metadata": {},
   "source": [
    "### Q.4. Explain right shift operator and left shift operator with examples.\n",
    "\n",
    "**Ans:** In Python, the right shift (>>) and left shift (<<) operators are used to perform bitwise shifting operations on integer values. These operators shift the binary representation of a number to the right or left by a specified number of positions.\n",
    "\n",
    "1. **``Right Shift Operator (>>)``**:\n",
    "The right shift operator (>>) shifts the bits of a number to the right by a specified number of positions. It effectively divides the number by 2 raised to the power of the shift amount. The rightmost bits are discarded, and zeros are filled in from the left."
   ]
  },
  {
   "cell_type": "code",
   "execution_count": 5,
   "id": "8d5d08b0",
   "metadata": {},
   "outputs": [
    {
     "name": "stdout",
     "output_type": "stream",
     "text": [
      "3\n"
     ]
    }
   ],
   "source": [
    "num = 12  # Binary: 1100\n",
    "\n",
    "# Right shift by 2 positions\n",
    "result = num >> 2  # Binary: 0011 (Decimal: 3)\n",
    "\n",
    "print(result)  # Output: 3"
   ]
  },
  {
   "cell_type": "markdown",
   "id": "fa0706c2",
   "metadata": {},
   "source": [
    "2. **``Left Shift Operator (<<)``**:\n",
    "The left shift operator (<<) shifts the bits of a number to the left by a specified number of positions. It effectively multiplies the number by 2 raised to the power of the shift amount. Zeros are filled in from the right, and the leftmost bits are discarded if they exceed the length of the integer's representation."
   ]
  },
  {
   "cell_type": "code",
   "execution_count": 6,
   "id": "cd1ee5b7",
   "metadata": {},
   "outputs": [
    {
     "name": "stdout",
     "output_type": "stream",
     "text": [
      "12\n"
     ]
    }
   ],
   "source": [
    "num = 3  # Binary: 0011\n",
    "\n",
    "# Left shift by 2 positions\n",
    "result = num << 2  # Binary: 1100 (Decimal: 12)\n",
    "\n",
    "print(result)  # Output: 12"
   ]
  },
  {
   "cell_type": "markdown",
   "id": "3489015c",
   "metadata": {},
   "source": [
    "### Q.5. Create a list containing int type data of length 15. Then write a code to check if 10 is present in the list or not."
   ]
  },
  {
   "cell_type": "code",
   "execution_count": 7,
   "id": "efaa9e11",
   "metadata": {},
   "outputs": [
    {
     "name": "stdout",
     "output_type": "stream",
     "text": [
      "10 is present in the list.\n"
     ]
    }
   ],
   "source": [
    "# Create a list of integers\n",
    "numbers = [5, 3, 8, 10, 12, 6, 15, 9, 4, 7, 1, 11, 2, 13, 14]\n",
    "\n",
    "# Check if 10 is present in the list\n",
    "if 10 in numbers:\n",
    "    print(\"10 is present in the list.\")\n",
    "else:\n",
    "    print(\"10 is not present in the list.\")\n"
   ]
  }
 ],
 "metadata": {
  "kernelspec": {
   "display_name": "Python 3",
   "language": "python",
   "name": "python3"
  },
  "language_info": {
   "codemirror_mode": {
    "name": "ipython",
    "version": 3
   },
   "file_extension": ".py",
   "mimetype": "text/x-python",
   "name": "python",
   "nbconvert_exporter": "python",
   "pygments_lexer": "ipython3",
   "version": "3.8.8"
  }
 },
 "nbformat": 4,
 "nbformat_minor": 5
}
