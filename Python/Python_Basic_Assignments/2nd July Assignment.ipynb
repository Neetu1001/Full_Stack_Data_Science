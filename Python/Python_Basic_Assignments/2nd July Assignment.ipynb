{
 "cells": [
  {
   "cell_type": "markdown",
   "id": "ecc0104b",
   "metadata": {},
   "source": [
    "## Assignment\n",
    "\n",
    "### 1. Explain what inheritance is in object-oriented programming and why it is used.\n",
    "**Ans:** Inheritance is a fundamental concept in OOP that allows you to define a new class based on an existing class. In other words, a new class inherits attributes and behaviors (methods) from an existing class. The existing class is often referred to as the \"parent\" or \"base\" class, and the new class is the \"child\" or \"derived\" class.\n",
    "\n",
    "Here's how inheritance works and why it's used:\n",
    "\n",
    "1. Code Reusability: Inheritance promotes code reusability. Instead of rewriting common attributes and methods in each class, you can define them in a base class and then have multiple derived classes inherit and extend that functionality. This reduces code duplication and makes your codebase more manageable and maintainable.\n",
    "\n",
    "2. Hierarchy and Specialization: Inheritance allows you to create a hierarchy of classes. You can start with a general class that represents a broader concept and then create more specialized classes that inherit from it. Each specialized class can add its own unique attributes and behaviors while inheriting common features from the base class.\n",
    "\n",
    "3. Modularity: Inheritance promotes modular design. You can work on individual classes independently, knowing that they inherit the necessary characteristics from the base class. This also enables you to make changes or improvements to the base class, which automatically reflects in all derived classes.\n",
    "\n",
    "4. Polymorphism: Inheritance is a key element in achieving polymorphism, which is the ability of different classes to be treated as instances of the same class through a common interface. This allows you to write more flexible and generic code that can work with various objects without needing to know their specific types.\n",
    "\n",
    "Inheritance establishes an \"is-a\" relationship between classes, where a derived class \"is-a\" specialized version of its base class. However, it's important to use inheritance judiciously and avoid deep inheritance hierarchies that can lead to complex and tightly coupled code."
   ]
  },
  {
   "cell_type": "markdown",
   "id": "641cdc9e",
   "metadata": {},
   "source": [
    "### 2. Discuss the concept of single inheritance and multiple inheritance, highlighting their differences and advantages.\n",
    "**Ans:** In **single inheritance**, a class can inherit from only one base (parent) class. This means that a derived class can extend and specialize the behavior of a single parent class. In single inheritance, the class hierarchy forms a linear chain where each class has a unique parent except for the root class.\n",
    "\n",
    "**``Advantages of Single Inheritance:``**\n",
    "\n",
    "1. **Simplicity:** Single inheritance tends to result in simpler class hierarchies. The linear structure makes it easier to understand the relationship between classes.\n",
    "2. **Reduced Complexity:** Since a class has only one parent, there are fewer concerns about conflicting or ambiguous behavior inherited from multiple sources.\n",
    "3. **Code Reusability:** Single inheritance still provides code reusability by allowing you to create hierarchies of specialized classes while keeping a clear hierarchy.\n",
    "\n",
    "In **multiple inheritance**, a class can inherit from more than one base class. This means that a derived class can combine and inherit attributes and methods from multiple parent classes. In multiple inheritance, the class hierarchy becomes more complex, with a diamond shape when multiple classes inherit from a common base.\n",
    "\n",
    "**``Advantages of Multiple Inheritance:``**\n",
    "\n",
    "1. Code Reusability: Multiple inheritance maximizes code reusability by allowing a class to inherit functionality from multiple sources. This is particularly useful when different base classes provide distinct features.\n",
    "2. Richer Functionality: A class derived from multiple base classes can provide a richer combination of functionalities, making it more adaptable to different scenarios.\n",
    "3. Flexible Design: Multiple inheritance allows you to create complex relationships between classes, enabling you to model intricate real-world scenarios more accurately.\n",
    "\n",
    "**``Differences and Considerations:``**\n",
    "\n",
    "1. **Complexity:** Multiple inheritance can lead to more complex hierarchies and sometimes result in the \"diamond problem\" (ambiguities when two base classes have a common ancestor). Single inheritance usually results in simpler hierarchies.\n",
    "2. **Name Clashes:** In multiple inheritance, there's a higher chance of name clashes if different base classes define methods or attributes with the same name. This can be mitigated through careful naming or method resolution strategies.\n",
    "3. **Design Trade-offs:** Choosing between single and multiple inheritance depends on the design goals and trade-offs. Single inheritance provides a clear hierarchy, while multiple inheritance can provide more flexibility and reuse.\n",
    "4. **Readability and Maintenance:** Complex multiple inheritance hierarchies can become harder to understand and maintain over time. Proper documentation and design practices are crucial in such cases.\n",
    "\n",
    "In summary, single inheritance provides simplicity and clarity, while multiple inheritance offers greater flexibility and code reusability. The choice between them depends on the specific requirements and design goals of your application. In practice, many programming languages, including Python, support both single and multiple inheritance."
   ]
  },
  {
   "cell_type": "markdown",
   "id": "51379122",
   "metadata": {},
   "source": [
    "### 3. Explain the terms \"base class\" and \"derived class\" in the context of inheritance.\n",
    "**Ans:** In the context of inheritance, the terms \"base class\" and \"derived class\" refer to the classes involved in the inheritance relationship, where a derived class inherits attributes and methods from a base class.\n",
    "\n",
    "**``Base Class (Parent Class):``**\n",
    "\n",
    "* The base class, also known as the parent class or superclass, is the class that provides the attributes and methods that are inherited by other classes.\n",
    "* It serves as a template for creating more specialized classes. The attributes and methods defined in the base class can be reused by all its derived classes.\n",
    "* The base class represents a more general concept or behavior, and it can have its own attributes and methods, which may or may not be overridden by derived classes.\n",
    "* In the context of \"is-a\" relationships, the base class is a broader category that encompasses the behaviors and characteristics shared by its derived classes.\n",
    "\n",
    "**``Derived Class (Child Class):``**\n",
    "\n",
    "* The derived class, also known as the child class or subclass, is the class that inherits attributes and methods from a base class.\n",
    "* It extends the functionality of the base class by adding its own attributes and methods or by overriding methods from the base class.\n",
    "* The derived class is a more specialized version of the base class, with additional features or modifications specific to the context in which it is used.\n",
    "* Derived classes can have their own attributes and methods that are unique to them and not present in the base class.\n",
    "\n",
    "In summary, the base class is the class that provides the foundation for inheritance, and the derived class is a class that inherits attributes and methods from the base class while extending or specializing its functionality. This relationship allows for code reuse, modularity, and the creation of hierarchical structures in object-oriented programming."
   ]
  },
  {
   "cell_type": "markdown",
   "id": "555df5bc",
   "metadata": {},
   "source": [
    "### 4. What is the significance of the \"protected\" access modifier in inheritance? How does it differ from \"private\" and \"public\" modifiers?\n",
    "**Ans:** In object-oriented programming, access modifiers control the visibility of class members (attributes and methods) from outside the class. The three common access modifiers are \"private,\" \"protected,\" and \"public.\" These modifiers help define the level of encapsulation and control over the accessibility of class members.\n",
    "\n",
    "**``1. Private Access Modifier:``**\n",
    "\n",
    "* Private members are accessible only within the class where they are defined.\n",
    "* They are not visible or accessible from derived classes or external code.\n",
    "* Private members are used to encapsulate internal implementation details and ensure that only the class itself can access or modify them.\n",
    "\n",
    "**``2. Protected Access Modifier:``**\n",
    "\n",
    "* Protected members are accessible within the class where they are defined and in derived classes (subclasses).\n",
    "* They are not directly accessible from external code that is not a part of the class hierarchy.\n",
    "* Protected members are often used to provide controlled access to attributes and methods for subclasses, while still enforcing encapsulation for external code.\n",
    "\n",
    "**``3. Public Access Modifier:``**\n",
    "\n",
    "* Public members are accessible from anywhere, including external code and derived classes.\n",
    "* They have the least restrictive access and can be freely accessed and modified by any part of the code.\n",
    "* Significance of \"Protected\" Access Modifier in Inheritance:\n",
    "\n",
    "In summary, the \"protected\" access modifier strikes a balance between the encapsulation provided by \"private\" members and the accessibility provided by \"public\" members. It allows derived classes to inherit and extend the functionality of base classes while ensuring that the internal implementation details are not exposed to external code. This access modifier is a crucial tool in creating well-structured and maintainable class hierarchies in object-oriented programming."
   ]
  },
  {
   "cell_type": "markdown",
   "id": "f0bd235a",
   "metadata": {},
   "source": [
    "### 5. What is the purpose of the \"super\" keyword in inheritance? Provide an example.\n",
    "**Ans:** Inheritance allows you to create a hierarchy of classes, where a derived class inherits attributes and methods from a base class. The 'super' keyword in programming languages like Python is used to refer to the parent (base) class and its members. It's particularly useful when you want to call a method from the parent class while overriding it in the derived class.\n",
    "\n",
    "The primary purpose of the 'super' keyword is to facilitate the calling of methods and constructors from the parent class within the context of the derived class. This is especially valuable when you want to retain some behavior from the parent class while extending or modifying it in the derived class."
   ]
  },
  {
   "cell_type": "code",
   "execution_count": 1,
   "id": "01c9a2de",
   "metadata": {},
   "outputs": [
    {
     "name": "stdout",
     "output_type": "stream",
     "text": [
      "Value in Parent: 10\n",
      "Bonus in Child: 5\n"
     ]
    }
   ],
   "source": [
    "class Parent:\n",
    "    def __init__(self, value):\n",
    "        self.value = value\n",
    "\n",
    "    def show(self):\n",
    "        print(f\"Value in Parent: {self.value}\")\n",
    "\n",
    "class Child(Parent):\n",
    "    def __init__(self, value, bonus):\n",
    "        super().__init__(value)  # Call the constructor of the Parent class\n",
    "        self.bonus = bonus\n",
    "\n",
    "    def show(self):\n",
    "        super().show()  # Call the show() method of the Parent class\n",
    "        print(f\"Bonus in Child: {self.bonus}\")\n",
    "\n",
    "# Create an instance of the Child class\n",
    "child_obj = Child(10, 5)\n",
    "child_obj.show()"
   ]
  },
  {
   "cell_type": "markdown",
   "id": "753e81d0",
   "metadata": {},
   "source": [
    "Using the 'super' keyword helps maintain the structure of the inheritance chain and allows you to build upon or modify behaviors from the parent class in a more organized manner"
   ]
  },
  {
   "cell_type": "markdown",
   "id": "afb11cd7",
   "metadata": {},
   "source": [
    "### 6. Create a base class called \"Vehicle\" with attributes like \"make\", \"model\", and \"year\". Then, create a derived class called \"Car\" that inherits from \"Vehicle\" and adds an attribute called \"fuel_type\". Implement appropriate methods in both classes.\n",
    "**Ans:**"
   ]
  },
  {
   "cell_type": "code",
   "execution_count": 2,
   "id": "b512baeb",
   "metadata": {},
   "outputs": [
    {
     "name": "stdout",
     "output_type": "stream",
     "text": [
      "Car 1 Information:\n",
      "Make: Toyota\n",
      "Model: Camry\n",
      "Year: 2023\n",
      "Fuel Type: Gasoline\n",
      "\n",
      "Car 2 Information:\n",
      "Make: Tesla\n",
      "Model: Model 3\n",
      "Year: 2023\n",
      "Fuel Type: Electric\n"
     ]
    }
   ],
   "source": [
    "class Vehicle:\n",
    "    def __init__(self, make, model, year):\n",
    "        self.make = make\n",
    "        self.model = model\n",
    "        self.year = year\n",
    "\n",
    "    def display_info(self):\n",
    "        print(f\"Make: {self.make}\")\n",
    "        print(f\"Model: {self.model}\")\n",
    "        print(f\"Year: {self.year}\")\n",
    "\n",
    "class Car(Vehicle):\n",
    "    def __init__(self, make, model, year, fuel_type):\n",
    "        super().__init__(make, model, year)  # Call the constructor of the Vehicle class\n",
    "        self.fuel_type = fuel_type\n",
    "\n",
    "    def display_info(self):\n",
    "        super().display_info()  # Call the display_info() method of the Vehicle class\n",
    "        print(f\"Fuel Type: {self.fuel_type}\")\n",
    "\n",
    "# Create instances of the Car class\n",
    "car1 = Car(\"Toyota\", \"Camry\", 2023, \"Gasoline\")\n",
    "car2 = Car(\"Tesla\", \"Model 3\", 2023, \"Electric\")\n",
    "\n",
    "# Display information for car1 and car2\n",
    "print(\"Car 1 Information:\")\n",
    "car1.display_info()\n",
    "\n",
    "print(\"\\nCar 2 Information:\")\n",
    "car2.display_info()"
   ]
  },
  {
   "cell_type": "markdown",
   "id": "10cd8242",
   "metadata": {},
   "source": [
    "### 7. Create a base class called \"Employee\" with attributes like \"name\" and \"salary.\" Derive two classes, \"Manager\" and \"Developer,\" from \"Employee.\" Add an additional attribute called \"department\" for the \"Manager\" class and \"programming_language\" for the \"Developer\" class.\n",
    "**Ans:**\n"
   ]
  },
  {
   "cell_type": "code",
   "execution_count": 3,
   "id": "9d659965",
   "metadata": {},
   "outputs": [
    {
     "name": "stdout",
     "output_type": "stream",
     "text": [
      "Manager Information:\n",
      "Name: John Doe\n",
      "Salary: $80000.00\n",
      "Department: IT\n",
      "\n",
      "Developer Information:\n",
      "Name: Alice Smith\n",
      "Salary: $65000.00\n",
      "Programming Language: Python\n"
     ]
    }
   ],
   "source": [
    "class Employee:\n",
    "    def __init__(self, name, salary):\n",
    "        self.name = name\n",
    "        self.salary = salary\n",
    "\n",
    "    def display_info(self):\n",
    "        print(f\"Name: {self.name}\")\n",
    "        print(f\"Salary: ${self.salary:.2f}\")\n",
    "\n",
    "class Manager(Employee):\n",
    "    def __init__(self, name, salary, department):\n",
    "        super().__init__(name, salary)  # Call the constructor of the Employee class\n",
    "        self.department = department\n",
    "\n",
    "    def display_info(self):\n",
    "        super().display_info()  # Call the display_info() method of the Employee class\n",
    "        print(f\"Department: {self.department}\")\n",
    "\n",
    "class Developer(Employee):\n",
    "    def __init__(self, name, salary, programming_language):\n",
    "        super().__init__(name, salary)  # Call the constructor of the Employee class\n",
    "        self.programming_language = programming_language\n",
    "\n",
    "    def display_info(self):\n",
    "        super().display_info()  # Call the display_info() method of the Employee class\n",
    "        print(f\"Programming Language: {self.programming_language}\")\n",
    "\n",
    "# Create instances of the Manager and Developer classes\n",
    "manager = Manager(\"John Doe\", 80000, \"IT\")\n",
    "developer = Developer(\"Alice Smith\", 65000, \"Python\")\n",
    "\n",
    "# Display information for the manager and developer\n",
    "print(\"Manager Information:\")\n",
    "manager.display_info()\n",
    "\n",
    "print(\"\\nDeveloper Information:\")\n",
    "developer.display_info()"
   ]
  },
  {
   "cell_type": "markdown",
   "id": "e98d08ad",
   "metadata": {},
   "source": [
    "### 8. Design a base class called \"Shape\" with attributes like \"colour\" and \"border_width.\" Create derived classes, \"Rectangle\" and \"Circle,\" that inherit from \"Shape\" and add specific attributes like \"length\" and \"width\" for the \"Rectangle\" class and \"radius\" for the \"Circle\" class.\n",
    "**Ans:**"
   ]
  },
  {
   "cell_type": "code",
   "execution_count": 4,
   "id": "1049f0fa",
   "metadata": {},
   "outputs": [
    {
     "name": "stdout",
     "output_type": "stream",
     "text": [
      "Rectangle Information:\n",
      "Colour: Blue\n",
      "Border Width: 2 pixels\n",
      "Length: 10 units\n",
      "Width: 8 units\n",
      "\n",
      "Circle Information:\n",
      "Colour: Red\n",
      "Border Width: 1 pixels\n",
      "Radius: 5 units\n"
     ]
    }
   ],
   "source": [
    "class Shape:\n",
    "    def __init__(self, colour, border_width):\n",
    "        self.colour = colour\n",
    "        self.border_width = border_width\n",
    "\n",
    "    def display_info(self):\n",
    "        print(f\"Colour: {self.colour}\")\n",
    "        print(f\"Border Width: {self.border_width} pixels\")\n",
    "\n",
    "class Rectangle(Shape):\n",
    "    def __init__(self, colour, border_width, length, width):\n",
    "        super().__init__(colour, border_width)  # Call the constructor of the Shape class\n",
    "        self.length = length\n",
    "        self.width = width\n",
    "\n",
    "    def display_info(self):\n",
    "        super().display_info()  # Call the display_info() method of the Shape class\n",
    "        print(f\"Length: {self.length} units\")\n",
    "        print(f\"Width: {self.width} units\")\n",
    "\n",
    "class Circle(Shape):\n",
    "    def __init__(self, colour, border_width, radius):\n",
    "        super().__init__(colour, border_width)  # Call the constructor of the Shape class\n",
    "        self.radius = radius\n",
    "\n",
    "    def display_info(self):\n",
    "        super().display_info()  # Call the display_info() method of the Shape class\n",
    "        print(f\"Radius: {self.radius} units\")\n",
    "\n",
    "# Create instances of the Rectangle and Circle classes\n",
    "rectangle = Rectangle(\"Blue\", 2, 10, 8)\n",
    "circle = Circle(\"Red\", 1, 5)\n",
    "\n",
    "# Display information for the rectangle and circle\n",
    "print(\"Rectangle Information:\")\n",
    "rectangle.display_info()\n",
    "\n",
    "print(\"\\nCircle Information:\")\n",
    "circle.display_info()"
   ]
  },
  {
   "cell_type": "markdown",
   "id": "2c8a820a",
   "metadata": {},
   "source": [
    "### 9. Create a base class called \"Device\" with attributes like \"brand\" and \"model.\" Derive two classes, \"Phone\" and \"Tablet,\" from \"Device.\" Add specific attributes like \"screen_size\" for the \"Phone\" class and \"battery_capacity\" for the \"Tablet\" class.\n",
    "**Ans:**"
   ]
  },
  {
   "cell_type": "code",
   "execution_count": 6,
   "id": "1d343ed0",
   "metadata": {},
   "outputs": [
    {
     "name": "stdout",
     "output_type": "stream",
     "text": [
      "Phone Information:\n",
      "Brand: Apple\n",
      "Model: iPhone 13\n",
      "Screen Size: 6.1 inches\n",
      "\n",
      "Tablet Information:\n",
      "Brand: Samsung\n",
      "Model: Galaxy Tab S7\n",
      "Battery Capacity: 8000 mAh\n"
     ]
    }
   ],
   "source": [
    "class Device:\n",
    "    def __init__(self, brand, model):\n",
    "        self.brand = brand\n",
    "        self.model = model\n",
    "\n",
    "    def display_info(self):\n",
    "        print(f\"Brand: {self.brand}\")\n",
    "        print(f\"Model: {self.model}\")\n",
    "\n",
    "class Phone(Device):\n",
    "    def __init__(self, brand, model, screen_size):\n",
    "        super().__init__(brand, model)  # Call the constructor of the Device class\n",
    "        self.screen_size = screen_size\n",
    "\n",
    "    def display_info(self):\n",
    "        super().display_info()  # Call the display_info() method of the Device class\n",
    "        print(f\"Screen Size: {self.screen_size} inches\")\n",
    "\n",
    "class Tablet(Device):\n",
    "    def __init__(self, brand, model, battery_capacity):\n",
    "        super().__init__(brand, model)  # Call the constructor of the Device class\n",
    "        self.battery_capacity = battery_capacity\n",
    "\n",
    "    def display_info(self):\n",
    "        super().display_info()  # Call the display_info() method of the Device class\n",
    "        print(f\"Battery Capacity: {self.battery_capacity} mAh\")\n",
    "\n",
    "# Create instances of the Phone and Tablet classes\n",
    "phone = Phone(\"Apple\", \"iPhone 13\", 6.1)\n",
    "tablet = Tablet(\"Samsung\", \"Galaxy Tab S7\", 8000)\n",
    "\n",
    "# Display information for the phone and tablet\n",
    "print(\"Phone Information:\")\n",
    "phone.display_info()\n",
    "\n",
    "print(\"\\nTablet Information:\")\n",
    "tablet.display_info()"
   ]
  },
  {
   "cell_type": "markdown",
   "id": "30e25ec4",
   "metadata": {},
   "source": [
    "### 10. Create a base class called \"BankAccount\" with attributes like \"account_number\" and \"balance.\" Derive two classes, \"SavingsAccount\" and \"CheckingAccount,\" from \"BankAccount.\" Add specific methods like \"calculate_interest\" for the \"SavingsAccount\" class and \"deduct_fees\" for the \"CheckingAccount\" class.\n",
    "**Ans:**"
   ]
  },
  {
   "cell_type": "code",
   "execution_count": 8,
   "id": "3027ea3e",
   "metadata": {},
   "outputs": [
    {
     "name": "stdout",
     "output_type": "stream",
     "text": [
      "Savings Account Information:\n",
      "Account Number: SA123\n",
      "Balance: $1000.00\n",
      "Interest calculated and added to the balance: $25.00\n",
      "Account Number: SA123\n",
      "Balance: $1025.00\n",
      "\n",
      "Checking Account Information:\n",
      "Account Number: CA456\n",
      "Balance: $500.00\n",
      "Fees deducted from the balance: $10.00\n",
      "Account Number: CA456\n",
      "Balance: $490.00\n"
     ]
    }
   ],
   "source": [
    "class BankAccount:\n",
    "    def __init__(self, account_number, balance):\n",
    "        self.account_number = account_number\n",
    "        self.balance = balance\n",
    "\n",
    "    def display_info(self):\n",
    "        print(f\"Account Number: {self.account_number}\")\n",
    "        print(f\"Balance: ${self.balance:.2f}\")\n",
    "\n",
    "class SavingsAccount(BankAccount):\n",
    "    def __init__(self, account_number, balance, interest_rate):\n",
    "        super().__init__(account_number, balance)  # Call the constructor of the BankAccount class\n",
    "        self.interest_rate = interest_rate\n",
    "\n",
    "    def calculate_interest(self):\n",
    "        interest = self.balance * (self.interest_rate / 100)\n",
    "        self.balance += interest\n",
    "        print(f\"Interest calculated and added to the balance: ${interest:.2f}\")\n",
    "\n",
    "class CheckingAccount(BankAccount):\n",
    "    def __init__(self, account_number, balance, fee_amount):\n",
    "        super().__init__(account_number, balance)  # Call the constructor of the BankAccount class\n",
    "        self.fee_amount = fee_amount\n",
    "\n",
    "    def deduct_fees(self):\n",
    "        if self.balance >= self.fee_amount:\n",
    "            self.balance -= self.fee_amount\n",
    "            print(f\"Fees deducted from the balance: ${self.fee_amount:.2f}\")\n",
    "        else:\n",
    "            print(\"Insufficient balance to deduct fees.\")\n",
    "\n",
    "# Create instances of the SavingsAccount and CheckingAccount classes\n",
    "savings_account = SavingsAccount(\"SA123\", 1000, 2.5)\n",
    "checking_account = CheckingAccount(\"CA456\", 500, 10)\n",
    "\n",
    "# Display information for the savings account and deduct fees from the checking account\n",
    "print(\"Savings Account Information:\")\n",
    "savings_account.display_info()\n",
    "savings_account.calculate_interest()\n",
    "savings_account.display_info()\n",
    "\n",
    "print(\"\\nChecking Account Information:\")\n",
    "checking_account.display_info()\n",
    "checking_account.deduct_fees()\n",
    "checking_account.display_info()"
   ]
  }
 ],
 "metadata": {
  "kernelspec": {
   "display_name": "Python 3",
   "language": "python",
   "name": "python3"
  },
  "language_info": {
   "codemirror_mode": {
    "name": "ipython",
    "version": 3
   },
   "file_extension": ".py",
   "mimetype": "text/x-python",
   "name": "python",
   "nbconvert_exporter": "python",
   "pygments_lexer": "ipython3",
   "version": "3.8.8"
  }
 },
 "nbformat": 4,
 "nbformat_minor": 5
}
