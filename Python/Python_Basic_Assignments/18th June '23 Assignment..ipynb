{
 "cells": [
  {
   "cell_type": "markdown",
   "id": "36fb1f6b",
   "metadata": {},
   "source": [
    "## Assignment \n",
    "\n",
    "### 1. What is the role of the 'else' block in a try-except statement? Provide an example scenario where it would be useful.\n",
    "**Ans:** The else block in a try-except statement is optional and provides a block of code that is executed only if no exceptions are raised within the try block. It allows you to specify code that should run when the code in the try block executes successfully without any exceptions being raised.\n"
   ]
  },
  {
   "cell_type": "code",
   "execution_count": 1,
   "id": "db84a41f",
   "metadata": {},
   "outputs": [
    {
     "name": "stdout",
     "output_type": "stream",
     "text": [
      "Enter the numerator: 10\n",
      "Enter the denominator: 2\n",
      "Division successful!\n",
      "Result: 5.0\n"
     ]
    }
   ],
   "source": [
    "def divide_numbers():\n",
    "    try:\n",
    "        numerator = int(input(\"Enter the numerator: \"))\n",
    "        denominator = int(input(\"Enter the denominator: \"))\n",
    "        result = numerator / denominator\n",
    "    except ZeroDivisionError:\n",
    "        print(\"Error: Division by zero is not allowed.\")\n",
    "    except ValueError:\n",
    "        print(\"Error: Invalid input. Please enter integer values.\")\n",
    "    else:\n",
    "        print(\"Division successful!\")\n",
    "        print(\"Result:\", result)\n",
    "\n",
    "\n",
    "divide_numbers()"
   ]
  },
  {
   "cell_type": "markdown",
   "id": "f005aaf4",
   "metadata": {},
   "source": [
    "### 2. Can a try-except block be nested inside another try-except block? Explain with an example.\n",
    "**Ans:** Yes, a try-except block can be nested inside another try-except block. This is known as nested exception handling. It allows for more fine-grained control over handling exceptions in different parts of the code."
   ]
  },
  {
   "cell_type": "code",
   "execution_count": 3,
   "id": "28ec7594",
   "metadata": {},
   "outputs": [
    {
     "name": "stdout",
     "output_type": "stream",
     "text": [
      "Enter the numerator: 10\n",
      "Enter the denominator: 0\n",
      "Error: Division by zero is not allowed.\n"
     ]
    }
   ],
   "source": [
    "def divide_numbers():\n",
    "    try:\n",
    "        numerator = int(input(\"Enter the numerator: \"))\n",
    "        denominator = int(input(\"Enter the denominator: \"))\n",
    "\n",
    "        try:\n",
    "            result = numerator / denominator\n",
    "            print(\"Division Result:\", result)\n",
    "        except ZeroDivisionError:\n",
    "            print(\"Error: Division by zero is not allowed.\")\n",
    "    \n",
    "    except ValueError:\n",
    "        print(\"Error: Invalid input. Please enter integer values.\")\n",
    "\n",
    "\n",
    "divide_numbers()"
   ]
  },
  {
   "cell_type": "markdown",
   "id": "4e8ca1ba",
   "metadata": {},
   "source": [
    "### 3. How can you create a custom exception class in Python? Provide an example that demonstrates its usage.\n",
    "**Ans:** In Python, you can create a custom exception class by subclassing the built-in Exception class or any of its subclasses. By creating a custom exception class, you can define your own exception types to represent specific errors or exceptional situations in your code.\n"
   ]
  },
  {
   "cell_type": "code",
   "execution_count": 6,
   "id": "71bd93ab",
   "metadata": {},
   "outputs": [
    {
     "name": "stdout",
     "output_type": "stream",
     "text": [
      "Enter the numerator: 100\n",
      "Enter the denominator: re\n",
      "Error: Invalid input. Please enter integer values.\n"
     ]
    }
   ],
   "source": [
    "class CustomError(Exception):\n",
    "    def __init__(self, message):\n",
    "        self.message = message\n",
    "\n",
    "    def __str__(self):\n",
    "        return f\"CustomError: {self.message}\"\n",
    "\n",
    "\n",
    "def divide_numbers():\n",
    "    try:\n",
    "        numerator = int(input(\"Enter the numerator: \"))\n",
    "        denominator = int(input(\"Enter the denominator: \"))\n",
    "\n",
    "        if denominator == 0:\n",
    "            raise CustomError(\"Division by zero is not allowed.\")\n",
    "\n",
    "        result = numerator / denominator\n",
    "        print(\"Division Result:\", result)\n",
    "    except CustomError as e:\n",
    "        print(str(e))\n",
    "    except ValueError:\n",
    "        print(\"Error: Invalid input. Please enter integer values.\")\n",
    "\n",
    "\n",
    "divide_numbers()"
   ]
  },
  {
   "cell_type": "markdown",
   "id": "0c3c53dc",
   "metadata": {},
   "source": [
    "In this example, we define a custom exception class called CustomError by subclassing the Exception class. The CustomError class has an __init__ method to initialize the exception with a custom error message, and a __str__ method to return a string representation of the exception.\n",
    "\n",
    "Within the divide_numbers function, we raise the CustomError exception if the denominator is zero, using the raise keyword. If the CustomError exception is raised, it is caught by the corresponding except block, and the custom error message is printed.\n",
    "\n",
    "The CustomError class allows you to define your own exception types with specific behavior and error messages. It helps in providing more meaningful and specific error handling in your code, tailored to the exceptional situations you encounter."
   ]
  },
  {
   "cell_type": "markdown",
   "id": "11087f40",
   "metadata": {},
   "source": [
    "### 4. What are some common exceptions that are built-in to Python?\n",
    "**Ans:** Python provides several built-in exceptions that represent common types of errors or exceptional situations. Some of the most commonly used built-in exceptions in Python include:\n",
    "\n",
    "1. **``ZeroDivisionError:``** Raised when division or modulo operation is performed with a denominator of zero.\n",
    "2. **``TypeError:``** Raised when an operation or function is performed on an object of an inappropriate type.\n",
    "3. **``ValueError:``** Raised when a function receives an argument of the correct type but an inappropriate value.\n",
    "4. **``IndexError:``** Raised when a sequence subscript is out of range.\n",
    "5. **``KeyError:``** Raised when a dictionary key is not found.\n",
    "6. **``FileNotFoundError:``** Raised when a file or directory is requested but cannot be found.\n",
    "7. **``IOError:``** Raised when an I/O operation (such as reading or writing a file) fails.\n",
    "8. **``NameError:``** Raised when a local or global name is not found.\n",
    "9. **``AttributeError:``** Raised when an attribute reference or assignment fails.\n",
    "10. **``ImportError:``** Raised when an import statement fails to find the module or the specified name in a module.\n",
    "\n",
    "These are just a few examples of the built-in exceptions available in Python. Each exception has its own specific purpose and is used to handle different types of errors or exceptional situations that can occur during program execution.\n",
    "\n"
   ]
  },
  {
   "cell_type": "markdown",
   "id": "95bb378d",
   "metadata": {},
   "source": [
    "### 5. What is logging in Python, and why is it important in software development?\n",
    "**Ans:** Logging in Python refers to the process of generating log messages during the execution of a program. It involves capturing relevant information, such as status updates, error messages, and debugging details, and storing them in a log file or displaying them in the console.\n",
    "\n",
    "Logging is essential in software development for several reasons:\n",
    "\n",
    "1. **``Debugging and Troubleshooting:``** Logging allows developers to track the flow of execution and identify issues or bugs in the code. By logging relevant information, developers can analyze the log messages to understand the state of the program at different points and pinpoint the cause of errors or unexpected behavior.\n",
    "\n",
    "2. **``Error Reporting:``** Logging error messages, exceptions, and stack traces provides valuable information for diagnosing and resolving issues. When an error occurs, logs help developers identify the root cause, reproduce the problem, and implement appropriate \n",
    "3. **``Monitoring and Performance Analysis:``** Logging can include performance-related metrics, such as execution time, resource usage, and throughput. These logs help in monitoring the application's performance, identifying performance bottlenecks, and optimizing the code for better efficiency.\n",
    "\n",
    "4. **``Auditing and Compliance:``** Logging can be used to track and record important events, actions, and user interactions within an application. This helps in auditing the system, detecting security breaches, and ensuring compliance with regulatory requirements.\n",
    "\n",
    "5. **``Understanding User Behavior:``** By logging user interactions, preferences, and usage patterns, developers can gain insights into how users are engaging with the application. This information can be used to make data-driven decisions, improve user experience, and optimize features based on real-world usage."
   ]
  },
  {
   "cell_type": "markdown",
   "id": "2d2756d6",
   "metadata": {},
   "source": [
    "### 6. Explain the purpose of log levels in Python logging and provide examples of when each log level would be appropriate.\n",
    "**Ans:** In Python logging, log levels are used to categorize log messages based on their importance or severity. Each log level represents a specific level of granularity or urgency. The purpose of log levels is to allow developers to control which log messages are captured and displayed based on the desired level of detail or severity.\n",
    "\n",
    "Python's logging module defines the following log levels, listed in increasing order of severity:\n",
    "\n",
    "1. **``DEBUG:``** The lowest log level, used for detailed diagnostic information. Debug logs are typically used during development and debugging stages to provide fine-grained information about the program's execution, variable values, and control flow. Example usage: Logging variable values, function entry/exit points, and intermediate steps during code execution.\n",
    "\n",
    "2. **``INFO:``** The general information level. Info logs provide high-level information about the progress and status of the application. They are used to convey important milestones, significant events, or key state changes. Example usage: Logging application startup/shutdown, major configuration changes, or significant user interactions.\n",
    "\n",
    "3. **``WARNING:``** Used to indicate potential issues or unexpected situations that may cause problems but do not necessarily lead to errors. Warning logs are used to capture conditions that might require attention or indicate something unusual but not critical. Example usage: Logging deprecated function usage, non-critical configuration warnings, or unexpected behavior that can be recovered automatically.\n",
    "\n",
    "4. **``ERROR:``** Used to indicate errors or exceptional conditions that might impact the functionality of the application. Error logs represent significant issues that require attention and potentially impact the correct execution of the program. Example usage: Logging runtime errors, exceptions, failed operations, or conditions that prevent the program from functioning properly.\n",
    "\n",
    "5. **``CRITICAL:``** The highest log level, used to indicate critical errors or failures that require immediate attention. Critical logs represent severe failures that may lead to application crashes, data corruption, or security breaches. Example usage: Logging unrecoverable errors, system failures, security breaches, or other critical conditions that require immediate investigation and intervention.\n",
    "\n",
    "The choice of log level depends on the desired level of detail and the severity of the logged event. During development and debugging, a lower log level like DEBUG or INFO can be used to capture detailed information and track the program's execution. In production environments, it's common to use higher log levels like WARNING, ERROR, or CRITICAL to focus on significant events, errors, and critical failures that require attention.\n",
    "\n",
    "By setting the log level appropriately, developers can control the verbosity of logs, balance the amount of information captured, and filter out less important messages, improving log readability and focusing on the relevant log entries for troubleshooting and analysis."
   ]
  },
  {
   "cell_type": "markdown",
   "id": "410ad1a6",
   "metadata": {},
   "source": [
    "### 7. What are log formatters in Python logging, and how can you customise the log message format using formatters?\n",
    "**Ans:** In Python logging, log formatters are used to define the format of log messages that are generated by the logging module. Formatters specify how the log messages should be structured and what information should be included in each log entry.\n",
    "\n",
    "The **'logging.Formatter'** class is provided by the logging module to customize the log message format. It allows you to define a formatting pattern using placeholders, which are replaced with actual values when the log message is generated.\n",
    "\n",
    "Here's an example of customizing the log message format using formatters:"
   ]
  },
  {
   "cell_type": "code",
   "execution_count": 7,
   "id": "374e97cb",
   "metadata": {},
   "outputs": [
    {
     "name": "stderr",
     "output_type": "stream",
     "text": [
      "2023-07-02 21:20:27,639 - DEBUG - This is a debug message.\n",
      "2023-07-02 21:20:27,656 - INFO - This is an info message.\n",
      "2023-07-02 21:20:27,662 - WARNING - This is a warning message.\n",
      "2023-07-02 21:20:27,667 - ERROR - This is an error message.\n",
      "2023-07-02 21:20:27,673 - CRITICAL - This is a critical message.\n"
     ]
    }
   ],
   "source": [
    "import logging\n",
    "\n",
    "# Create a logger\n",
    "logger = logging.getLogger(\"example_logger\")\n",
    "logger.setLevel(logging.DEBUG)\n",
    "\n",
    "# Create a formatter\n",
    "formatter = logging.Formatter('%(asctime)s - %(levelname)s - %(message)s')\n",
    "\n",
    "# Create a handler and set the formatter\n",
    "handler = logging.StreamHandler()\n",
    "handler.setFormatter(formatter)\n",
    "\n",
    "# Add the handler to the logger\n",
    "logger.addHandler(handler)\n",
    "\n",
    "# Log messages\n",
    "logger.debug(\"This is a debug message.\")\n",
    "logger.info(\"This is an info message.\")\n",
    "logger.warning(\"This is a warning message.\")\n",
    "logger.error(\"This is an error message.\")\n",
    "logger.critical(\"This is a critical message.\")"
   ]
  },
  {
   "cell_type": "markdown",
   "id": "752401fd",
   "metadata": {},
   "source": []
  },
  {
   "cell_type": "markdown",
   "id": "60f8570e",
   "metadata": {},
   "source": [
    "### 8. How can you set up logging to capture log messages from multiple modules or classes in a Python application?\n",
    "**Ans:** To set up logging to capture log messages from multiple modules or classes in a Python application, you can follow these steps:\n",
    "\n",
    "1. **``Create a Logger``**:In each module or class where you want to capture log messages, create a logger using the logging.getLogger() method. Give each logger a unique name that represents the module or class it belongs to. It's important to use the same name when setting up loggers in different modules or classes to ensure they refer to the same logger instance.\n",
    "\n",
    "2. **``Configure loggers:``** Configure each logger with the desired log level and handlers. You can set the log level using the setLevel() method, and add handlers using the addHandler() method. Handlers determine where the log messages will be directed, such as to a file, console, or any other output destination.\n",
    "\n",
    "3. **``Log messages:``** In each module or class, use the logger to log messages at different log levels (e.g., debug(), info(), warning(), etc.). Include relevant log details and messages that provide useful information for debugging, troubleshooting, or monitoring."
   ]
  },
  {
   "cell_type": "markdown",
   "id": "e2732949",
   "metadata": {},
   "source": [
    "### 9. What is the difference between the logging and print statements in Python? When should you use logging over print statements in a real-world application?\n",
    "**Ans:** The logging and print statements in Python serve different purposes and have distinct characteristics. Here are the key differences between them:\n",
    "\n",
    "1. **``Output Destination``**: The print statement directs its output to the standard output, typically the console or terminal. On the other hand, the logging module allows you to configure multiple output destinations, such as files, streams, sockets, or external services. This flexibility enables logging to be used for various purposes, including debugging, monitoring, and recording events.\n",
    "\n",
    "\n",
    "2. **``Logging Levels``**: The logging module provides different log levels (e.g., DEBUG, INFO, WARNING, ERROR, CRITICAL) to categorize log messages based on their severity or importance. This allows you to control the level of detail in log output and selectively capture relevant information. In contrast, the print statement does not have built-in levels and simply displays the provided values as-is.\n",
    "\n",
    "\n",
    "3. **``Logging Configuration:``** The logging module provides extensive configuration options, allowing you to customize the log format, specify handlers, define loggers for different modules or classes, and control log propagation. This configurability makes it easier to manage and control the logging behavior across your application. On the other hand, the print statement does not offer such configuration options, providing a simple and straightforward way to output values to the console.\n",
    "\n",
    "\n",
    "4. **``Structured Logging``**: With the logging module, you can format log messages with specific placeholders, such as timestamps, log levels, module names, or custom information. This structured logging makes it easier to analyze and process log data programmatically. In contrast, the print statement primarily outputs values as strings without additional formatting or metadata.\n",
    "\n",
    "\n",
    "5. **``Error Handling:``** The print statement is often used for quick debugging or basic information display. However, it does not provide a standardized way to handle and propagate errors. In contrast, the logging module allows you to capture and log exceptions, stack traces, and error messages in a structured manner, making it easier to identify, track, and troubleshoot errors.\n",
    "\n",
    "\n",
    "6. **``Production Use``**: The logging module is typically used in production environments for long-term logging and monitoring. It provides more control, flexibility, and scalability compared to print statements, which are commonly used during development or for quick debugging purposes.\n",
    "\n",
    "\n",
    "In a real-world application, you should prefer using logging over print statements for several reasons:\n",
    "\n",
    "1. **Flexibility and Configurability**: Logging provides a more flexible and configurable approach compared to print statements. With logging, you can configure multiple loggers, set different log levels, define custom log formats, and direct log output to various destinations (e.g., console, files, network services). This configurability allows you to control the behavior and verbosity of logging based on the environment, deployment scenario, or user preferences.\n",
    "\n",
    "\n",
    "2. **Granular Control**: Logging allows you to categorize log messages based on severity levels (e.g., DEBUG, INFO, WARNING, ERROR, CRITICAL). This gives you granular control over the level of detail captured in logs. You can selectively enable or disable specific log levels to focus on relevant information during different stages of development, testing, or production.\n",
    "\n",
    "\n",
    "3. **Error Handling and Troubleshooting**: Logging is particularly useful for error handling and troubleshooting. It allows you to capture and log error messages, exceptions, stack traces, and other relevant information when an error or exceptional condition occurs. This makes it easier to identify, diagnose, and resolve issues by providing a more structured and standardized approach to logging errors.\n",
    "\n",
    "\n",
    "4. **Long-Term Logging and Monitoring**: In a real-world application, you often need to log information over extended periods of time for monitoring, auditing, or historical analysis. Logging provides mechanisms to handle large volumes of log data, rotate log files, and integrate with log management systems or services. This enables long-term logging and centralized monitoring, making it easier to track application behavior and diagnose problems in production environments.\n",
    "\n",
    "\n",
    "5. **Code Maintainability**: Using logging instead of print statements can improve code maintainability. By using logging, you can separate the concerns of generating output and the actual logic of your application. This allows you to easily disable or modify the behavior of logging statements without changing the core logic of your code. It also provides a standardized and consistent way of logging throughout your application, making the codebase more organized and easier to understand for both developers and maintainers.\n",
    "\n",
    "\n",
    "6. **Performance Impact:** In situations where you have numerous print statements scattered throughout your code, it can have a negative impact on performance, especially if the output needs to be redirected to a file or external service. Logging provides better performance in such scenarios because it offers efficient buffering, asynchronous logging, and optimized output handling."
   ]
  },
  {
   "cell_type": "markdown",
   "id": "1fefb2b1",
   "metadata": {},
   "source": [
    "### 10. Write a Python program that logs a message to a file named \"app.log\" with the following requirements:\n",
    "**Ans:**\n",
    "\n",
    "        ● The log message should be \"Hello, World!\""
   ]
  },
  {
   "cell_type": "code",
   "execution_count": 8,
   "id": "8180d634",
   "metadata": {},
   "outputs": [],
   "source": [
    "import logging\n",
    "\n",
    "# Configure logging to a file\n",
    "logging.basicConfig(filename='app.log', level=logging.INFO, format='%(asctime)s - %(message)s')\n",
    "\n",
    "# Log the message\n",
    "logging.info('Hello, World!')"
   ]
  },
  {
   "cell_type": "markdown",
   "id": "313a9c27",
   "metadata": {},
   "source": [
    "        ● The log level should be set to \"INFO.\""
   ]
  },
  {
   "cell_type": "code",
   "execution_count": 9,
   "id": "f2a44d9e",
   "metadata": {},
   "outputs": [],
   "source": [
    "# Configure logging to a file\n",
    "logging.basicConfig(filename='app1.log', level=logging.INFO, format='%(asctime)s - %(levelname)s - %(message)s')\n",
    "\n",
    "# Log the message\n",
    "logging.info('Hello, World!')"
   ]
  },
  {
   "cell_type": "markdown",
   "id": "14adcc33",
   "metadata": {},
   "source": [
    "       ● The log file should append new log entries without overwriting previous ones."
   ]
  },
  {
   "cell_type": "code",
   "execution_count": 10,
   "id": "0a68ac39",
   "metadata": {},
   "outputs": [],
   "source": [
    "import logging\n",
    "\n",
    "# Configure logging to append to an existing log file\n",
    "logging.basicConfig(level=logging.INFO, format='%(asctime)s - %(levelname)s - %(message)s')\n",
    "file_handler = logging.FileHandler('app.log', mode='a')\n",
    "file_handler.setLevel(logging.INFO)\n",
    "file_handler.setFormatter(logging.Formatter('%(asctime)s - %(levelname)s - %(message)s'))\n",
    "logging.getLogger().addHandler(file_handler)\n",
    "\n",
    "# Log the message\n",
    "logging.info('Hello, World!')"
   ]
  },
  {
   "cell_type": "markdown",
   "id": "b43d10ee",
   "metadata": {},
   "source": [
    "In the above code, the FileHandler is created with the log file name ('app.log') and the mode parameter set to 'a', which ensures that new log entries will be appended to the existing file without overwriting.\n",
    "\n",
    "\n",
    "### 11. Create a Python program that logs an error message to the console and a file named errors.log\" if an exception occurs during the program's execution. The error message should include the exception type and a timestamp.\n",
    "**Ans:**"
   ]
  },
  {
   "cell_type": "code",
   "execution_count": 11,
   "id": "cf3b344a",
   "metadata": {},
   "outputs": [],
   "source": [
    "import logging\n",
    "import datetime\n",
    "\n",
    "# Configure logging to console\n",
    "logging.basicConfig(level=logging.ERROR, format='%(asctime)s - %(levelname)s - %(message)s')\n",
    "\n",
    "# Configure logging to file\n",
    "file_handler = logging.FileHandler('errors.log')\n",
    "file_handler.setLevel(logging.ERROR)\n",
    "file_handler.setFormatter(logging.Formatter('%(asctime)s - %(levelname)s - %(message)s'))\n",
    "logging.getLogger().addHandler(file_handler)\n",
    "\n",
    "try:\n",
    "    # Your code here\n",
    "    # If an exception occurs, it will be caught and logged\n",
    "    raise ValueError(\"An error occurred!\")\n",
    "\n",
    "except Exception as e:\n",
    "    # Log the error message with exception type and timestamp\n",
    "    error_message = f\"{type(e).__name__} - {datetime.datetime.now()} - {str(e)}\"\n",
    "    logging.error(error_message)"
   ]
  }
 ],
 "metadata": {
  "kernelspec": {
   "display_name": "Python 3",
   "language": "python",
   "name": "python3"
  },
  "language_info": {
   "codemirror_mode": {
    "name": "ipython",
    "version": 3
   },
   "file_extension": ".py",
   "mimetype": "text/x-python",
   "name": "python",
   "nbconvert_exporter": "python",
   "pygments_lexer": "ipython3",
   "version": "3.8.8"
  }
 },
 "nbformat": 4,
 "nbformat_minor": 5
}
