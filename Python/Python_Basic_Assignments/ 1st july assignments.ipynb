{
 "cells": [
  {
   "cell_type": "markdown",
   "id": "77f90204",
   "metadata": {},
   "source": [
    "## Assignment \n",
    "\n",
    "### 1. What is the primary goal of Object-Oriented Programming (OOP)?\n",
    "**Ans:** The primary goal of Object-Oriented Programming (OOP) is to provide a programming paradigm that promotes the organization of code in a modular, reusable, and understandable manner. OOP aims to structure programs around objects, which are instances of classes that encapsulate data and behavior.\n",
    "\n",
    "The key goals of OOP are:\n",
    "\n",
    "1. **``Modularity``**: OOP encourages the decomposition of complex systems into smaller, self-contained modules called objects. \n",
    "\n",
    "2. **``Encapsulation:``** OOP supports encapsulation by hiding the internal details and complexities of an object from other objects. \n",
    "\n",
    "3. **``Abstraction:``** OOP emphasizes abstraction by focusing on the essential characteristics and behaviors of an object while hiding irrelevant details. \n",
    "\n",
    "4. **``Inheritance:``** OOP provides inheritance as a mechanism for creating new classes based on existing classes. Inheritance allows the reuse of common attributes and behaviors defined in a base (parent) class, reducing code duplication and promoting code organization. \n",
    "\n",
    "5. **``Polymorphism:``** OOP supports polymorphism, which allows objects of different classes to be treated as objects of a common superclass. "
   ]
  },
  {
   "cell_type": "markdown",
   "id": "c3124e29",
   "metadata": {},
   "source": [
    "### 2. What is an object in Python?\n",
    "**Ans:** An Object is an instance of a Class. A class is like a blueprint while an instance is a copy of the class with actual values. Python is an object-oriented programming language that stresses objects i.e. it mainly emphasizes functions. Python Objects are basically an encapsulation of data variables and methods acting on that data into a single entity."
   ]
  },
  {
   "cell_type": "markdown",
   "id": "7a6b0e82",
   "metadata": {},
   "source": [
    "### 3. What is a class in Python?\n",
    "**Ans:** A class is a user-defined blueprint or prototype from which objects are created. Classes provide a means of bundling data and functionality together. Creating a new class creates a new type of object, allowing new instances of that type to be made. Each class instance can have attributes attached to it for maintaining its state. Class instances can also have methods (defined by their class) for modifying their state."
   ]
  },
  {
   "cell_type": "markdown",
   "id": "3345da3b",
   "metadata": {},
   "source": [
    "### 4. What are attributes and methods in a class?\n",
    "**Ans:** In object-oriented programming (OOP), which is a programming paradigm used in languages like Python, a class is a blueprint or template for creating objects. Objects are instances of a class, and they can have attributes and methods.\n",
    "\n",
    "Attributes: Attributes are variables that hold data associated with an object. They define the characteristics or properties of the object. \n",
    "\n",
    "Methods: Methods are functions defined within a class that can perform actions or operations on the object's attributes or alter the object's state. They define the behavior of the object"
   ]
  },
  {
   "cell_type": "markdown",
   "id": "0c8fd0e0",
   "metadata": {},
   "source": [
    "### 5. What is the difference between class variables and instance variables in Python?\n",
    "**Ans:** In Python, both class variables and instance variables are used to store data within a class. However, they have different scopes and purposes within the class.\n",
    "\n",
    "**``Class Variables:``**\n",
    "\n",
    "1. Class variables are shared among all instances of a class. They are defined within the class but outside of any methods.\n",
    "2. They are associated with the class itself, not with individual instances of the class.\n",
    "3. They are typically used to store data that is common to all instances of the class.\n",
    "4. If a class variable is modified, the change is reflected in all instances of the class.\n",
    "5. Class variables are accessed using the class name."
   ]
  },
  {
   "cell_type": "code",
   "execution_count": 1,
   "id": "7975f94a",
   "metadata": {},
   "outputs": [
    {
     "name": "stdout",
     "output_type": "stream",
     "text": [
      "Buddy\n",
      "Max\n",
      "Canine\n",
      "Canine\n"
     ]
    }
   ],
   "source": [
    "class Dog:\n",
    "    species = \"Canine\"  # This is a class variable\n",
    "\n",
    "    def __init__(self, name):\n",
    "        self.name = name  # This is an instance variable\n",
    "\n",
    "dog1 = Dog(\"Buddy\")\n",
    "dog2 = Dog(\"Max\")\n",
    "\n",
    "print(dog1.name)  # Instance variable\n",
    "print(dog2.name)  # Instance variable\n",
    "print(dog1.species)  # Class variable\n",
    "print(dog2.species)  # Class variable"
   ]
  },
  {
   "cell_type": "markdown",
   "id": "44a23e44",
   "metadata": {},
   "source": [
    "**``Instance variables``**\n",
    "\n",
    "1. Instance variables are unique to each instance of a class. They are defined within the class's methods, usually within the constructor (__init__ method).\n",
    "2. They store data that can vary between instances of the class.\n",
    "3. Each instance of the class has its own set of instance variables, and changes to these variables are specific to the instance where they occur.\n",
    "4. Instance variables are accessed using the instance name."
   ]
  },
  {
   "cell_type": "markdown",
   "id": "85a430ab",
   "metadata": {},
   "source": [
    "### 6. What is the purpose of the self parameter in Python class methods?\n",
    "\n",
    "**Ans:** In Python, the self parameter in class methods refers to the instance of the class on which the method is being called. It is a convention in Python programming to name this parameter as self, although you could technically use any other name. The purpose of the self parameter is to give methods access to the attributes and other methods of the instance it belongs to."
   ]
  },
  {
   "cell_type": "markdown",
   "id": "d846a328",
   "metadata": {},
   "source": [
    "### 7. For a library management system, you have to design the \"Book\" class with OOP principles in mind. The “Book” class will have following attributes:\n",
    "\n",
    "    a. title: Represents the title of the book.\n",
    "    b. author: Represents the author(s) of the book.\n",
    "    c. isbn: Represents the ISBN (International Standard Book Number) of the book.\n",
    "    d. publication_year: Represents the year of publication of the book.\n",
    "    e. available_copies: Represents the number of copies available for checkout.\n",
    "\n",
    "    \n",
    "    The class will also include the following methods:\n",
    "1. check_out(self): Decrements the available copies by one if there are copies available for checkout.\n",
    "2. return_book(self): Increments the available copies by one when a book is returned.\n",
    "3. display_book_info(self): Displays the information about the book, including its attributes and the number of available copies."
   ]
  },
  {
   "cell_type": "code",
   "execution_count": 2,
   "id": "07e6fc22",
   "metadata": {},
   "outputs": [
    {
     "name": "stdout",
     "output_type": "stream",
     "text": [
      "Book Information:\n",
      "Title: The Great Gatsby\n",
      "Author(s): F. Scott Fitzgerald\n",
      "ISBN: 978-0-7432-7356-5\n",
      "Publication Year: 1925\n",
      "Available Copies: 3\n",
      "A copy of 'The Great Gatsby' has been checked out.\n",
      "A copy of 'The Great Gatsby' has been checked out.\n",
      "A copy of 'The Great Gatsby' has been returned.\n",
      "Book Information:\n",
      "Title: The Great Gatsby\n",
      "Author(s): F. Scott Fitzgerald\n",
      "ISBN: 978-0-7432-7356-5\n",
      "Publication Year: 1925\n",
      "Available Copies: 2\n"
     ]
    }
   ],
   "source": [
    "class Book:\n",
    "    def __init__(self, title, author, isbn, publication_year, available_copies):\n",
    "        self.title = title\n",
    "        self.author = author\n",
    "        self.isbn = isbn\n",
    "        self.publication_year = publication_year\n",
    "        self.available_copies = available_copies\n",
    "\n",
    "    def check_out(self):\n",
    "        if self.available_copies > 0:\n",
    "            self.available_copies -= 1\n",
    "            print(f\"A copy of '{self.title}' has been checked out.\")\n",
    "        else:\n",
    "            print(f\"All copies of '{self.title}' are currently checked out.\")\n",
    "\n",
    "    def return_book(self):\n",
    "        self.available_copies += 1\n",
    "        print(f\"A copy of '{self.title}' has been returned.\")\n",
    "\n",
    "    def display_book_info(self):\n",
    "        print(\"Book Information:\")\n",
    "        print(f\"Title: {self.title}\")\n",
    "        print(f\"Author(s): {self.author}\")\n",
    "        print(f\"ISBN: {self.isbn}\")\n",
    "        print(f\"Publication Year: {self.publication_year}\")\n",
    "        print(f\"Available Copies: {self.available_copies}\")\n",
    "\n",
    "# Create an instance of the Book class\n",
    "book1 = Book(\"The Great Gatsby\", \"F. Scott Fitzgerald\", \"978-0-7432-7356-5\", 1925, 3)\n",
    "\n",
    "# Example usage\n",
    "book1.display_book_info()\n",
    "book1.check_out()\n",
    "book1.check_out()\n",
    "book1.return_book()\n",
    "book1.display_book_info()"
   ]
  },
  {
   "cell_type": "markdown",
   "id": "5090964f",
   "metadata": {},
   "source": [
    "### 8. For a ticket booking system, you have to design the \"Ticket\" class with OOP principles in mind. The “Ticket” class should have the following attributes:\n",
    "\n",
    "    a. ticket_id: Represents the unique identifier for the ticket.\n",
    "    b. event_name: Represents the name of the event.\n",
    "    c. event_date: Represents the date of the event.\n",
    "    d. venue: Represents the venue of the event.\n",
    "    e. seat_number: Represents the seat number associated with the ticket.\n",
    "    f. price: Represents the price of the ticket.\n",
    "    g. is_reserved: Represents the reservation status of the ticket.\n",
    "\n",
    "The class also includes the following methods:\n",
    "\n",
    "    a. reserve_ticket(self): Marks the ticket as reserved if it is not already reserved.\n",
    "    b. cancel_reservation(self): Cancels the reservation of the ticket if it is already\n",
    "    reserved.\n",
    "    c. display_ticket_info(self): Displays the information about the ticket, including its\n",
    "    attributes and reservation status.\n",
    "\n"
   ]
  },
  {
   "cell_type": "code",
   "execution_count": 3,
   "id": "63fbd15e",
   "metadata": {},
   "outputs": [
    {
     "name": "stdout",
     "output_type": "stream",
     "text": [
      "Ticket Information:\n",
      "Ticket ID: T123\n",
      "Event Name: Concert Night\n",
      "Event Date: 2023-09-15\n",
      "Venue: Main Stadium\n",
      "Seat Number: A12\n",
      "Price: $50.0\n",
      "Reservation Status: Not Reserved\n",
      "Ticket T123 has been reserved.\n",
      "Ticket Information:\n",
      "Ticket ID: T123\n",
      "Event Name: Concert Night\n",
      "Event Date: 2023-09-15\n",
      "Venue: Main Stadium\n",
      "Seat Number: A12\n",
      "Price: $50.0\n",
      "Reservation Status: Reserved\n",
      "Reservation for ticket T123 has been canceled.\n",
      "Ticket Information:\n",
      "Ticket ID: T123\n",
      "Event Name: Concert Night\n",
      "Event Date: 2023-09-15\n",
      "Venue: Main Stadium\n",
      "Seat Number: A12\n",
      "Price: $50.0\n",
      "Reservation Status: Not Reserved\n"
     ]
    }
   ],
   "source": [
    "class Ticket:\n",
    "    def __init__(self, ticket_id, event_name, event_date, venue, seat_number, price):\n",
    "        self.ticket_id = ticket_id\n",
    "        self.event_name = event_name\n",
    "        self.event_date = event_date\n",
    "        self.venue = venue\n",
    "        self.seat_number = seat_number\n",
    "        self.price = price\n",
    "        self.is_reserved = False\n",
    "\n",
    "    def reserve_ticket(self):\n",
    "        if not self.is_reserved:\n",
    "            self.is_reserved = True\n",
    "            print(f\"Ticket {self.ticket_id} has been reserved.\")\n",
    "        else:\n",
    "            print(f\"Ticket {self.ticket_id} is already reserved.\")\n",
    "\n",
    "    def cancel_reservation(self):\n",
    "        if self.is_reserved:\n",
    "            self.is_reserved = False\n",
    "            print(f\"Reservation for ticket {self.ticket_id} has been canceled.\")\n",
    "        else:\n",
    "            print(f\"Ticket {self.ticket_id} is not reserved.\")\n",
    "\n",
    "    def display_ticket_info(self):\n",
    "        print(\"Ticket Information:\")\n",
    "        print(f\"Ticket ID: {self.ticket_id}\")\n",
    "        print(f\"Event Name: {self.event_name}\")\n",
    "        print(f\"Event Date: {self.event_date}\")\n",
    "        print(f\"Venue: {self.venue}\")\n",
    "        print(f\"Seat Number: {self.seat_number}\")\n",
    "        print(f\"Price: ${self.price}\")\n",
    "        print(f\"Reservation Status: {'Reserved' if self.is_reserved else 'Not Reserved'}\")\n",
    "\n",
    "# Create an instance of the Ticket class\n",
    "ticket1 = Ticket(\"T123\", \"Concert Night\", \"2023-09-15\", \"Main Stadium\", \"A12\", 50.0)\n",
    "\n",
    "# Example usage\n",
    "ticket1.display_ticket_info()\n",
    "ticket1.reserve_ticket()\n",
    "ticket1.display_ticket_info()\n",
    "ticket1.cancel_reservation()\n",
    "ticket1.display_ticket_info()"
   ]
  },
  {
   "cell_type": "markdown",
   "id": "7a2d9786",
   "metadata": {},
   "source": [
    "### 9. You are creating a shopping cart for an e-commerce website. Using OOP to model the \"ShoppingCart\" functionality the class should contain following attributes and methods:\n",
    "\n",
    "    a. items: Represents the list of items in the shopping cart.\n",
    "\n",
    "The class also includes the following methods:\n",
    "\n",
    "    a. add_item(self, item): Adds an item to the shopping cart by appending it to the list of items.\n",
    "    b. remove_item(self, item): Removes an item from the shopping cart if it exists in the list.\n",
    "    c. view_cart(self): Displays the items currently present in the shopping cart.\n",
    "    d. clear_cart(self): Clears all items from the shopping cart by reassigning an empty list to the items attribute.\n",
    "\n"
   ]
  },
  {
   "cell_type": "code",
   "execution_count": 4,
   "id": "ec4c5466",
   "metadata": {},
   "outputs": [
    {
     "name": "stdout",
     "output_type": "stream",
     "text": [
      "Shirt has been added to the shopping cart.\n",
      "Shoes has been added to the shopping cart.\n",
      "Items in the shopping cart:\n",
      "Shirt\n",
      "Shoes\n",
      "Shoes has been removed from the shopping cart.\n",
      "Items in the shopping cart:\n",
      "Shirt\n",
      "Shopping cart has been cleared.\n",
      "The shopping cart is empty.\n"
     ]
    }
   ],
   "source": [
    "class ShoppingCart:\n",
    "    def __init__(self):\n",
    "        self.items = []\n",
    "\n",
    "    def add_item(self, item):\n",
    "        self.items.append(item)\n",
    "        print(f\"{item} has been added to the shopping cart.\")\n",
    "\n",
    "    def remove_item(self, item):\n",
    "        if item in self.items:\n",
    "            self.items.remove(item)\n",
    "            print(f\"{item} has been removed from the shopping cart.\")\n",
    "        else:\n",
    "            print(f\"{item} is not in the shopping cart.\")\n",
    "\n",
    "    def view_cart(self):\n",
    "        if self.items:\n",
    "            print(\"Items in the shopping cart:\")\n",
    "            for item in self.items:\n",
    "                print(item)\n",
    "        else:\n",
    "            print(\"The shopping cart is empty.\")\n",
    "\n",
    "    def clear_cart(self):\n",
    "        self.items = []\n",
    "        print(\"Shopping cart has been cleared.\")\n",
    "\n",
    "# Create an instance of the ShoppingCart class\n",
    "cart = ShoppingCart()\n",
    "\n",
    "# Example usage\n",
    "cart.add_item(\"Shirt\")\n",
    "cart.add_item(\"Shoes\")\n",
    "cart.view_cart()\n",
    "cart.remove_item(\"Shoes\")\n",
    "cart.view_cart()\n",
    "cart.clear_cart()\n",
    "cart.view_cart()"
   ]
  },
  {
   "cell_type": "markdown",
   "id": "cc25fdd3",
   "metadata": {},
   "source": [
    "### 10. Imagine a school management system. You have to design the \"Student\" class using OOP concepts.The “Student” class has the following attributes:\n",
    "\n",
    "    a. name: Represents the name of the student.\n",
    "    b. age: Represents the age of the student.\n",
    "    c. grade: Represents the grade or class of the student.\n",
    "    d. student_id: Represents the unique identifier for the student.\n",
    "    e. attendance: Represents the attendance record of the student.\n",
    "\n",
    "The class should also include the following methods:\n",
    "\n",
    "    a. update_attendance(self, date, status): Updates the attendance record of the student for a given date with the provided status (e.g., present or absent).\n",
    "    b. get_attendance(self): Returns the attendance record of the student.\n",
    "    c. get_average_attendance(self): Calculates and returns the average attendance percentage of the student based on their attendance record."
   ]
  },
  {
   "cell_type": "code",
   "execution_count": 5,
   "id": "23176873",
   "metadata": {},
   "outputs": [
    {
     "name": "stdout",
     "output_type": "stream",
     "text": [
      "Attendance for 2023-08-01 updated: present\n",
      "Attendance for 2023-08-02 updated: absent\n",
      "Attendance for 2023-08-03 updated: present\n",
      "Attendance: {'2023-08-01': 'present', '2023-08-02': 'absent', '2023-08-03': 'present'}\n",
      "Average Attendance: 66.66666666666666 %\n"
     ]
    }
   ],
   "source": [
    "class Student:\n",
    "    def __init__(self, name, age, grade, student_id):\n",
    "        self.name = name\n",
    "        self.age = age\n",
    "        self.grade = grade\n",
    "        self.student_id = student_id\n",
    "        self.attendance = {}  # A dictionary to store attendance records with date as key and status as value\n",
    "\n",
    "    def update_attendance(self, date, status):\n",
    "        self.attendance[date] = status\n",
    "        print(f\"Attendance for {date} updated: {status}\")\n",
    "\n",
    "    def get_attendance(self):\n",
    "        return self.attendance\n",
    "\n",
    "    def get_average_attendance(self):\n",
    "        total_days = len(self.attendance)\n",
    "        if total_days == 0:\n",
    "            return 0.0\n",
    "        present_days = sum(1 for status in self.attendance.values() if status == \"present\")\n",
    "        average_attendance = (present_days / total_days) * 100\n",
    "        return average_attendance\n",
    "\n",
    "# Create an instance of the Student class\n",
    "student1 = Student(\"John Doe\", 16, \"10th\", \"S123\")\n",
    "\n",
    "# Example usage\n",
    "student1.update_attendance(\"2023-08-01\", \"present\")\n",
    "student1.update_attendance(\"2023-08-02\", \"absent\")\n",
    "student1.update_attendance(\"2023-08-03\", \"present\")\n",
    "\n",
    "print(\"Attendance:\", student1.get_attendance())\n",
    "print(\"Average Attendance:\", student1.get_average_attendance(), \"%\")"
   ]
  }
 ],
 "metadata": {
  "kernelspec": {
   "display_name": "Python 3",
   "language": "python",
   "name": "python3"
  },
  "language_info": {
   "codemirror_mode": {
    "name": "ipython",
    "version": 3
   },
   "file_extension": ".py",
   "mimetype": "text/x-python",
   "name": "python",
   "nbconvert_exporter": "python",
   "pygments_lexer": "ipython3",
   "version": "3.8.8"
  }
 },
 "nbformat": 4,
 "nbformat_minor": 5
}
