{
 "cells": [
  {
   "cell_type": "markdown",
   "id": "7474f1b0",
   "metadata": {},
   "source": [
    "## Assignment 6\n",
    "\n",
    "### Q.1. What are keywords in python? Using the keyword library, print all the python keywords.\n",
    "\n",
    "**Ans:** Keywords in Python are **reserved words** that have predefined meanings and cannot be used as variable names or identifiers. These keywords are part of the Python language syntax and are used to define the structure and logic of the code.\n",
    "\n",
    "To print all the Python keywords, you can use the keyword library in Python. Here's an example:"
   ]
  },
  {
   "cell_type": "code",
   "execution_count": 1,
   "id": "3e2078a7",
   "metadata": {},
   "outputs": [
    {
     "name": "stdout",
     "output_type": "stream",
     "text": [
      "['False', 'None', 'True', 'and', 'as', 'assert', 'async', 'await', 'break', 'class', 'continue', 'def', 'del', 'elif', 'else', 'except', 'finally', 'for', 'from', 'global', 'if', 'import', 'in', 'is', 'lambda', 'nonlocal', 'not', 'or', 'pass', 'raise', 'return', 'try', 'while', 'with', 'yield']\n"
     ]
    }
   ],
   "source": [
    "import keyword\n",
    "\n",
    "all_keywords = keyword.kwlist\n",
    "print(all_keywords)"
   ]
  },
  {
   "cell_type": "markdown",
   "id": "03e8feac",
   "metadata": {},
   "source": [
    "These keywords are reserved and have specific purposes within the Python language. It's important to avoid using them as variable names or identifiers in your code to prevent conflicts and syntax errors.\n",
    "\n",
    "### Q.2. What are the rules to create variables in python?\n",
    "\n",
    "**Ans:**In Python, variables are used to store and manipulate data. Here are the rules to create variables in Python:\n",
    "\n",
    "1. **``Variable Name:``** The variable name can consist of letters (both uppercase and lowercase), digits, and underscores. The first character of the variable name cannot be a digit. The variable name is case-sensitive, meaning myVar and myvar are treated as different variables.\n",
    "\n",
    "2. **``Reserved Keywords:``** You cannot use reserved keywords as variable names. These are words that have special meanings in Python, such as \"if\", \"for\", \"while\", \"def\", etc.\n",
    "\n",
    "3. **``Naming Conventions:``** It is recommended to use lowercase letters for variable names, as it is a common convention in Python. If the variable name is composed of multiple words, you can separate them using underscores (snake_case) for better readability. For example, my_variable, user_name, etc.\n",
    "\n",
    "4. **``Assignment:``** To assign a value to a variable, use the assignment operator (=). For example, x = 10.\n",
    "\n",
    "5. **``Data Types``**: Variables in Python are dynamically typed, meaning you do not need to explicitly specify the data type of the variable. The data type is inferred based on the assigned value.\n",
    "\n",
    "6. **``Avoid Starting with Underscore``**: Variables that start with an underscore have a special meaning in Python, such as indicating a private variable. It is generally recommended to avoid starting variable names with an underscore, unless you have a specific reason to use it."
   ]
  },
  {
   "cell_type": "code",
   "execution_count": 2,
   "id": "48de1c70",
   "metadata": {},
   "outputs": [],
   "source": [
    "age = 25\n",
    "name = \"John\"\n",
    "my_variable = 10.5\n",
    "is_valid = True"
   ]
  },
  {
   "cell_type": "markdown",
   "id": "48e39a88",
   "metadata": {},
   "source": [
    "### Q.3. What are the standards and conventions followed for the nomenclature of variables in python to improve code readability and maintainability?\n",
    "\n",
    "**Ans:** In Python, there are several standards and conventions that are followed to improve code readability and maintainability. These conventions are documented in PEP 8, the official Python style guide. Here are some key points related to variable naming conventions:\n",
    "\n",
    "1. **Use descriptive and meaningful names**: Variable names should accurately describe the purpose or content of the variable. This helps make the code more readable and self-explanatory.\n",
    "\n",
    "2. **Use lowercase letters**: Variable names are typically written in lowercase letters. For example, count, name, age.\n",
    "\n",
    "3. **Separate words with underscores**: If a variable name consists of multiple words, it is common to separate them using underscores (snake_case). For example, first_name, total_count.\n",
    "\n",
    "4. **Avoid single-letter names** (unless appropriate): In most cases, it is recommended to avoid using single-letter variable names like x, y, z. Instead, choose more descriptive names that convey the purpose of the variable.\n",
    "\n",
    "5. **Be consistent and follow naming conventions:** It's important to be consistent with variable naming conventions throughout the codebase. If a specific naming convention is already established, follow it consistently.\n",
    "\n",
    "6. **Avoid using reserved keywords:** As mentioned earlier, avoid using Python's reserved keywords as variable names to prevent conflicts and syntax errors.\n",
    "\n",
    "7. **Use meaningful abbreviations:** If an abbreviation is commonly understood or widely used, it can be used in variable names. However, avoid excessive or unclear abbreviations that may make the code harder to understand.\n",
    "\n",
    "8. **Use proper capitalization for constants**: If a variable is intended to be a constant (a value that does not change), it is conventionally written in uppercase letters with underscores separating words. For example, MAX_SIZE, PI.\n",
    "\n",
    "9. **Consider the scope of the variable**: Variable names should reflect the scope and context in which they are used. For example, using prefixes like self. for instance variables in classes, or g_ for global variables.\n",
    "\n",
    "These conventions help make your code more readable, consistent, and maintainable. Adhering to these standards can improve collaboration with other developers and enhance the overall quality of your Python code.\n"
   ]
  },
  {
   "cell_type": "markdown",
   "id": "ea13b6ba",
   "metadata": {},
   "source": [
    "### Q.4. What will happen if a keyword is used as a variable name?\n",
    "\n",
    "**Ans:** If a keyword is used as a variable name in Python, it will result in a **syntax error**. Keywords are reserved words in the Python language that have predefined meanings and cannot be used as variable names or identifiers.\n",
    "\n",
    "When a keyword is used as a variable name, Python's parser will recognize it as a keyword and expect it to be used in a specific context according to its predefined meaning. However, using a keyword as a variable name violates this expectation and leads to a syntax error.\n",
    "\n",
    "For example, let's say we try to use the keyword \"if\" as a variable name:"
   ]
  },
  {
   "cell_type": "code",
   "execution_count": 3,
   "id": "60bd3991",
   "metadata": {},
   "outputs": [
    {
     "ename": "SyntaxError",
     "evalue": "invalid syntax (<ipython-input-3-e061eba9469d>, line 1)",
     "output_type": "error",
     "traceback": [
      "\u001b[1;36m  File \u001b[1;32m\"<ipython-input-3-e061eba9469d>\"\u001b[1;36m, line \u001b[1;32m1\u001b[0m\n\u001b[1;33m    if = 10  # SyntaxError: invalid syntax\u001b[0m\n\u001b[1;37m       ^\u001b[0m\n\u001b[1;31mSyntaxError\u001b[0m\u001b[1;31m:\u001b[0m invalid syntax\n"
     ]
    }
   ],
   "source": [
    "if = 10  # SyntaxError: invalid syntax"
   ]
  },
  {
   "cell_type": "markdown",
   "id": "f3bcfb67",
   "metadata": {},
   "source": [
    "In this case, Python will raise a SyntaxError with the message \"invalid syntax\" because \"if\" is a keyword and cannot be used as a variable name.\n",
    "\n",
    "To avoid this issue, it's important to choose variable names that do not conflict with Python's keywords. Use meaningful and descriptive names that accurately represent the purpose of the variable while adhering to the naming conventions and guidelines.\n",
    "\n",
    "### Q.5. For what purpose def keyword is used?\n",
    "\n",
    "**Ans:** The def keyword in Python is used to define user-defined functions. Functions are reusable blocks of code that perform a specific task and can be called from other parts of the program.\n",
    "\n",
    "When defining a function, the def keyword is used followed by the function name and parentheses, optionally followed by a list of parameters. The function definition is then followed by a colon (:), and the function body is indented below.\n",
    "\n",
    "Here's the general syntax for defining a function using the def keyword:\n",
    "\n",
    "def function_name(parameters):\n",
    "\n",
    "    # Function body\n",
    "    # Perform actions and computations\n",
    "    # Return values (optional)"
   ]
  },
  {
   "cell_type": "code",
   "execution_count": 5,
   "id": "1d157917",
   "metadata": {},
   "outputs": [],
   "source": [
    "def square(number):\n",
    "    result = number ** 2\n",
    "    return result"
   ]
  },
  {
   "cell_type": "markdown",
   "id": "ed41ba87",
   "metadata": {},
   "source": [
    "In this example, the def keyword is used to define a function named square. It takes a single parameter number. The function body calculates the square of the number by multiplying it by itself (number ** 2). Finally, the result is returned using the return statement.\n",
    "\n",
    "Once a function is defined, it can be called from other parts of the program by using its name followed by parentheses and passing the required arguments (if any). For example:"
   ]
  },
  {
   "cell_type": "code",
   "execution_count": 6,
   "id": "69b0e6b5",
   "metadata": {},
   "outputs": [
    {
     "name": "stdout",
     "output_type": "stream",
     "text": [
      "25\n"
     ]
    }
   ],
   "source": [
    "result = square(5)  # Calling the function and assigning the result to a variable\n",
    "print(result)  # Output: 25"
   ]
  },
  {
   "cell_type": "markdown",
   "id": "0b1f8e5a",
   "metadata": {},
   "source": [
    "In summary, the def keyword is used to define functions in Python, allowing you to encapsulate reusable blocks of code and perform specific tasks. Functions help in organizing code, promoting reusability, and improving the overall structure and readability of your programs.\n",
    "\n",
    "### Q.6. What is the operation of this special character ‘\\’?\n",
    "\n",
    "**Ans:** The special character '' in Python is called the backslash or escape character. It is used to introduce special character sequences or escape sequences in strings and characters. The backslash is followed by another character to represent a special meaning or functionality.\n",
    "\n",
    "Here are some common uses of the backslash in Python:\n",
    "\n",
    "1. Escape Sequences in Strings:\n",
    "\n",
    "* The backslash is used to escape characters that would otherwise have a special meaning within a string literal. For example:\n",
    "    * '\\\"' represents a double quote character (\").\n",
    "    * '\\'' represents a single quote character (').\n",
    "    * '\\\\ represents a literal backslash character (\\).\n",
    "    * '\\n' represents a newline character.\n",
    "    * '\\t' represents a tab character.\n",
    "    * '\\r' represents a carriage return character. and many more\n",
    "\n",
    "2. Unicode Escapes:\n",
    "* The backslash can be used to represent Unicode characters using their hexadecimal or octal value. For example:\n",
    "    * '\\uXXXX' represents a Unicode character using its four-digit hexadecimal value.\n",
    "    * '\\UXXXXXXXX' represents a Unicode character using its eight-digit hexadecimal value.\n",
    "    * '\\N{...}' represents a Unicode character using its Unicode name.\n",
    "\n",
    "3. Raw Strings: By prefixing a string with r or R, the backslashes within the string are treated as literal characters and not as escape characters. This is useful when working with regular expressions or file paths that contain many backslashes.\n",
    "\n",
    "\n",
    "4. Line Continuation: The backslash can be used to continue a long line of code onto the next line. This is useful for improving code readability. For example:"
   ]
  },
  {
   "cell_type": "code",
   "execution_count": 7,
   "id": "eacacc3a",
   "metadata": {},
   "outputs": [],
   "source": [
    "long_string = \"This is a very long string that \\\n",
    "               spans across multiple lines.\""
   ]
  },
  {
   "cell_type": "markdown",
   "id": "385c533f",
   "metadata": {},
   "source": [
    "### Q.7. Give an example of the following conditions:\n",
    "### (i) Homogeneous list\n",
    "### (ii) Heterogeneous set\n",
    "### (iii) Homogeneous tuple"
   ]
  },
  {
   "cell_type": "markdown",
   "id": "e9a01075",
   "metadata": {},
   "source": [
    "**Ans:** (i) **Homogeneous List:** A homogeneous list in Python is a list that contains elements of the same data type. Here's an example of a homogeneous list of integers:"
   ]
  },
  {
   "cell_type": "code",
   "execution_count": 8,
   "id": "e112f5bf",
   "metadata": {},
   "outputs": [],
   "source": [
    "numbers = [1, 2, 3, 4, 5]\n",
    "#the list numbers contains integers only, making it a homogeneous list."
   ]
  },
  {
   "cell_type": "markdown",
   "id": "a1efcab0",
   "metadata": {},
   "source": [
    "(ii) **Heterogeneous Set:** A heterogeneous set in Python is a set that contains elements of different data types. Here's an example of a heterogeneous set:"
   ]
  },
  {
   "cell_type": "code",
   "execution_count": 9,
   "id": "a26ad2ca",
   "metadata": {},
   "outputs": [],
   "source": [
    "my_set = {1, 'apple', True, 3.14}\n",
    "# the set 'my_set' contains elements of different types: an integer ('1'), a string ('apple'), a boolean value ('True'), and a floating-point number ('3.14')."
   ]
  },
  {
   "cell_type": "markdown",
   "id": "0f2a6cf2",
   "metadata": {},
   "source": [
    "(iii) **Homogeneous Tuple:** A homogeneous tuple in Python is a tuple that contains elements of the same data type. Here's an example of a homogeneous tuple of strings:"
   ]
  },
  {
   "cell_type": "code",
   "execution_count": 10,
   "id": "7d83ce7e",
   "metadata": {},
   "outputs": [],
   "source": [
    "fruits = ('apple', 'banana', 'orange', 'kiwi')\n",
    "# the tuple fruits contains strings only, making it a homogeneous tuple."
   ]
  },
  {
   "cell_type": "markdown",
   "id": "6340c747",
   "metadata": {},
   "source": [
    "### Q.8. Explain the mutable and immutable data types with proper explanation & examples.\n",
    "\n",
    "**Ans:** In Python, data types can be categorized as either mutable or immutable based on whether their values can be changed after they are created.\n",
    "\n",
    "**Immutable Data Types:**\n",
    "Immutable data types are those whose values cannot be modified once they are assigned. If any operation is performed on an immutable object that appears to modify it, it actually creates a new object with the updated value. Examples of immutable data types in Python include:\n",
    "\n",
    "1. Numbers: int, float, complex\n",
    "2. Strings: str\n",
    "3. Tuples: tuple"
   ]
  },
  {
   "cell_type": "code",
   "execution_count": 11,
   "id": "972f87f6",
   "metadata": {},
   "outputs": [
    {
     "name": "stdout",
     "output_type": "stream",
     "text": [
      "Hello\n",
      "Hello, World!\n"
     ]
    }
   ],
   "source": [
    "message = \"Hello\"\n",
    "print(message)  # Output: Hello\n",
    "\n",
    "message = message + \", World!\"\n",
    "print(message)  # Output: Hello, World!\n"
   ]
  },
  {
   "cell_type": "markdown",
   "id": "6f7b2880",
   "metadata": {},
   "source": [
    "**Mutable Data Types:**\n",
    "Mutable data types are those whose values can be modified after they are assigned. You can modify mutable objects directly, and any changes made to the object will affect its original value. Examples of mutable data types in Python include:\n",
    "\n",
    "1. Lists: list\n",
    "2. Sets: set\n",
    "3. Dictionaries: dict"
   ]
  },
  {
   "cell_type": "code",
   "execution_count": 12,
   "id": "7994378a",
   "metadata": {},
   "outputs": [
    {
     "name": "stdout",
     "output_type": "stream",
     "text": [
      "[1, 2, 3, 4, 5]\n",
      "[1, 2, 3, 4, 5, 6]\n",
      "[10, 2, 3, 4, 5, 6]\n"
     ]
    }
   ],
   "source": [
    "numbers = [1, 2, 3, 4, 5]\n",
    "print(numbers)  # Output: [1, 2, 3, 4, 5]\n",
    "\n",
    "numbers.append(6)\n",
    "print(numbers)  # Output: [1, 2, 3, 4, 5, 6]\n",
    "\n",
    "numbers[0] = 10\n",
    "print(numbers)  # Output: [10, 2, 3, 4, 5, 6]\n"
   ]
  },
  {
   "cell_type": "markdown",
   "id": "1abc613b",
   "metadata": {},
   "source": [
    "Q.9. Write a code to create the given structure using only for loop.\n",
    "\n",
    "        *\n",
    "       ***\n",
    "      *****\n",
    "     *******\n",
    "    *********"
   ]
  },
  {
   "cell_type": "code",
   "execution_count": 13,
   "id": "3eb365e1",
   "metadata": {},
   "outputs": [
    {
     "name": "stdout",
     "output_type": "stream",
     "text": [
      "    *\n",
      "   ***\n",
      "  *****\n",
      " *******\n",
      "*********\n"
     ]
    }
   ],
   "source": [
    "rows = 5\n",
    "\n",
    "for i in range(rows):\n",
    "    # Print spaces\n",
    "    for j in range(rows - i - 1):\n",
    "        print(\" \", end=\"\")\n",
    "\n",
    "    # Print asterisks\n",
    "    for k in range(2 * i + 1):\n",
    "        print(\"*\", end=\"\")\n",
    "\n",
    "    # Move to the next line\n",
    "    print()\n"
   ]
  },
  {
   "cell_type": "markdown",
   "id": "37117e7b",
   "metadata": {},
   "source": [
    "### Q.10. Write a code to create the given structure using while loop.\n",
    "\n",
    "    |||||||||\n",
    "     |||||||\n",
    "      |||||\n",
    "       |||\n",
    "        |"
   ]
  },
  {
   "cell_type": "code",
   "execution_count": 14,
   "id": "38ac07ef",
   "metadata": {},
   "outputs": [
    {
     "name": "stdout",
     "output_type": "stream",
     "text": [
      "|||||||||\n",
      " |||||||\n",
      "  |||||\n",
      "   |||\n",
      "    |\n"
     ]
    }
   ],
   "source": [
    "rows = 5\n",
    "spaces = 0\n",
    "asterisks = rows * 2 - 1\n",
    "\n",
    "while rows > 0:\n",
    "    # Print spaces\n",
    "    i = 0\n",
    "    while i < spaces:\n",
    "        print(\" \", end=\"\")\n",
    "        i += 1\n",
    "\n",
    "    # Print asterisks\n",
    "    i = 0\n",
    "    while i < asterisks:\n",
    "        print(\"|\", end=\"\")\n",
    "        i += 1\n",
    "\n",
    "    # Move to the next line\n",
    "    print()\n",
    "\n",
    "    spaces += 1\n",
    "    asterisks -= 2\n",
    "    rows -= 1\n"
   ]
  },
  {
   "cell_type": "code",
   "execution_count": null,
   "id": "9fc07c9c",
   "metadata": {},
   "outputs": [],
   "source": []
  }
 ],
 "metadata": {
  "kernelspec": {
   "display_name": "Python 3",
   "language": "python",
   "name": "python3"
  },
  "language_info": {
   "codemirror_mode": {
    "name": "ipython",
    "version": 3
   },
   "file_extension": ".py",
   "mimetype": "text/x-python",
   "name": "python",
   "nbconvert_exporter": "python",
   "pygments_lexer": "ipython3",
   "version": "3.8.8"
  }
 },
 "nbformat": 4,
 "nbformat_minor": 5
}
