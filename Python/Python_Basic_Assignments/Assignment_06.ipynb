{
 "cells": [
  {
   "cell_type": "markdown",
   "id": "fa13265e",
   "metadata": {},
   "source": [
    "## Assignment 6\n",
    "\n",
    "### 1. What are escape characters, and how do you use them?\n",
    "\n",
    "**Ans:**\n",
    "\n",
    "    Escape character are used we want to enter a character that are illegal in string\n",
    "\n",
    "    Escape character is a backlash \\; which is followed by a character that we want to insert.\n",
    "\n",
    "    For example:\n",
    "            \\n ---> Next Line\n",
    "            \\t ---> Tab\n",
    "            \\' ---> String"
   ]
  },
  {
   "cell_type": "markdown",
   "id": "4c6d9cb1",
   "metadata": {},
   "source": [
    "### 2. What do the escape characters n and t stand for?\n",
    "\n",
    "**Ans:**\n",
    "\n",
    "    \\n used for n i.e. Next Line\n",
    "    \\t used for t i.e. Tab\n"
   ]
  },
  {
   "cell_type": "markdown",
   "id": "466d5de6",
   "metadata": {},
   "source": [
    "### 3. What is the way to include backslash characters in a string?\n",
    "\n",
    "    Suppose I want to display\n",
    "    The last place I had visited was Nani's house\n",
    "\n",
    "**Ans:**\n",
    "\n"
   ]
  },
  {
   "cell_type": "code",
   "execution_count": 1,
   "id": "27c3a8c3",
   "metadata": {},
   "outputs": [
    {
     "ename": "SyntaxError",
     "evalue": "invalid syntax (<ipython-input-1-95c3fb764885>, line 1)",
     "output_type": "error",
     "traceback": [
      "\u001b[1;36m  Cell \u001b[1;32mIn[1], line 1\u001b[1;36m\u001b[0m\n\u001b[1;33m    print('The last place I had visited was Nani's house')\u001b[0m\n\u001b[1;37m                                                 ^\u001b[0m\n\u001b[1;31mSyntaxError\u001b[0m\u001b[1;31m:\u001b[0m invalid syntax\n"
     ]
    }
   ],
   "source": [
    "print('The last place I had visited was Nani's house')\n",
    "\n",
    "# So this would give an error as there are three ' within the print statement\n",
    "# As print function can get confused."
   ]
  },
  {
   "cell_type": "code",
   "execution_count": 2,
   "id": "4ab3f30b",
   "metadata": {},
   "outputs": [
    {
     "name": "stdout",
     "output_type": "stream",
     "text": [
      "The last place I had visited was Nani's house\n"
     ]
    }
   ],
   "source": [
    "# 1st Method --> Mostly used\n",
    "print('The last place I had visited was Nani\\'s house')\n",
    "\n",
    "# So the backlash need to be inserted before the illegal character"
   ]
  },
  {
   "cell_type": "code",
   "execution_count": 3,
   "id": "551b7278",
   "metadata": {},
   "outputs": [
    {
     "name": "stdout",
     "output_type": "stream",
     "text": [
      "The last place I had visited was Nani's house\n"
     ]
    }
   ],
   "source": [
    "# 2nd Method\n",
    "print(\"The last place I had visited was Nani's house\")"
   ]
  },
  {
   "cell_type": "markdown",
   "id": "db879ccf",
   "metadata": {},
   "source": [
    "### 4. The string \"Howl's Moving Castle\" is a correct value. Why isn't the single quote character in the word Howl's not escaped a problem?\n",
    "\n",
    "**Ans:**\n",
    "\n",
    "    str1 = \"Howl's Moving Castle\"\n",
    "\n",
    "    This is a correct value as:\n",
    "    The str1 has started with double quotes ; Also the str1 has ended with double quote\n",
    "    Now even if we have a single quote is in between two double quote ; this won`t have any issue\n",
    "\n",
    "    To explain in simple words:\n",
    "        \" It's a huge bunglow  \" CORRECT STMT ---> \" ' \"\n",
    "        \" It\"s a huge bunglow\" INCORRECT STMT ---> \" \" \"\n",
    "\n",
    "        ' It's a huge bunglow' INCORRECT STMT ---> ' ' '\n",
    "        \" It's a huge bunglow\" CORRECT STMT ---> ' \" '\n"
   ]
  },
  {
   "cell_type": "markdown",
   "id": "9a526155",
   "metadata": {},
   "source": [
    "### 5. How do you write a string of newlines if you don't want to use the n character?\n",
    "\n",
    "**Ans:** Within the **print()** function we can use the parameter **end** and assign the value **\\n**\n",
    "\n",
    "This will automatically print the next value in a new line\n"
   ]
  },
  {
   "cell_type": "code",
   "execution_count": 4,
   "id": "9f42a1e8",
   "metadata": {},
   "outputs": [
    {
     "name": "stdout",
     "output_type": "stream",
     "text": [
      "This is Neetu!!\n",
      "How are you?\n"
     ]
    }
   ],
   "source": [
    "print('This is Neetu!!', end='\\n')\n",
    "print('How are you?')"
   ]
  },
  {
   "cell_type": "code",
   "execution_count": 5,
   "id": "8a9f483a",
   "metadata": {},
   "outputs": [
    {
     "name": "stdout",
     "output_type": "stream",
     "text": [
      "This is Neetu!! How are you?\n"
     ]
    }
   ],
   "source": [
    "print('This is Neetu!!', end=' ')\n",
    "print('How are you?')\n",
    "# Here I have change the parameter end=' ' which will print the next value on the same line"
   ]
  },
  {
   "cell_type": "markdown",
   "id": "35b82f6b",
   "metadata": {},
   "source": [
    "### 6. What are the values of the given expressions?\n",
    "\n",
    "    'Hello, world!'[1]\n",
    "    'Hello, world!'[0:5]\n",
    "    'Hello, world!'[:5]\n",
    "    'Hello, world!'[3:]"
   ]
  },
  {
   "cell_type": "code",
   "execution_count": 7,
   "id": "ab954cc5",
   "metadata": {},
   "outputs": [
    {
     "name": "stdout",
     "output_type": "stream",
     "text": [
      "e\n",
      "Hello\n",
      "Hello\n",
      "lo, world!\n"
     ]
    }
   ],
   "source": [
    "print('Hello, world!'[1])\n",
    "print('Hello, world!'[0:5])\n",
    "print('Hello, world!'[:5])\n",
    "print('Hello, world!'[3:])"
   ]
  },
  {
   "cell_type": "markdown",
   "id": "b7cc6a29",
   "metadata": {},
   "source": [
    "### 7. What are the values of the following expressions?\n",
    "\n",
    "    'Hello'.upper()\n",
    "    'Hello'.upper().isupper()\n",
    "    'Hello'.upper().lower()"
   ]
  },
  {
   "cell_type": "code",
   "execution_count": 8,
   "id": "58495c0f",
   "metadata": {},
   "outputs": [
    {
     "name": "stdout",
     "output_type": "stream",
     "text": [
      "HELLO\n",
      "True\n",
      "hello\n"
     ]
    }
   ],
   "source": [
    "print('Hello'.upper())\n",
    "print('Hello'.upper().isupper())\n",
    "print('Hello'.upper().lower())"
   ]
  },
  {
   "cell_type": "markdown",
   "id": "ad147648",
   "metadata": {},
   "source": [
    "### 8. What are the values of the following expressions?\n",
    "\n",
    "    'Remember, remember, the fifth of July.'.split()\n",
    "    '-'.join('There can only one.'.split())"
   ]
  },
  {
   "cell_type": "code",
   "execution_count": 9,
   "id": "c5d5d2b4",
   "metadata": {},
   "outputs": [
    {
     "data": {
      "text/plain": [
       "['Remember,1', 'remember,2', 'the', 'fifth', 'of', 'July.']"
      ]
     },
     "execution_count": 9,
     "metadata": {},
     "output_type": "execute_result"
    }
   ],
   "source": [
    "'Remember,1 remember,2 the fifth of July.'.split()\n",
    "\n",
    "# This will SPLIT the string into list with space as a delimeter"
   ]
  },
  {
   "cell_type": "code",
   "execution_count": 10,
   "id": "534b07fe",
   "metadata": {},
   "outputs": [
    {
     "data": {
      "text/plain": [
       "'Remember,1-remember,2-the-fifth-of-July.'"
      ]
     },
     "execution_count": 10,
     "metadata": {},
     "output_type": "execute_result"
    }
   ],
   "source": [
    "# ACTUAL OPERATION\n",
    "'-'.join('Remember,1 remember,2 the fifth of July.'.split())\n",
    "\n",
    "# Here First the SPLIT OPERATION IS PERFOMED USING SPACE\n",
    "# A LIST WILL BE GENERATED \n",
    "# LATER THAT LIST WILL BE RECOMBINED/JOINED USING '-'"
   ]
  },
  {
   "cell_type": "markdown",
   "id": "b0bee4e9",
   "metadata": {},
   "source": [
    "### 9. What are the methods for right-justifying, left-justifying, and centering a string?\n",
    "\n",
    "**Ans:**\n",
    "\n",
    "    rjust()  --> Right Justifying\n",
    "    ljust()  --> Left Justifying\n",
    "    center() --> Center Justifying\n",
    "\n",
    "**Example**"
   ]
  },
  {
   "cell_type": "code",
   "execution_count": 12,
   "id": "d64e62c6",
   "metadata": {},
   "outputs": [
    {
     "data": {
      "text/plain": [
       "'Neetu----------'"
      ]
     },
     "execution_count": 12,
     "metadata": {},
     "output_type": "execute_result"
    }
   ],
   "source": [
    "# Left Justifying\n",
    "str1 = 'Neetu'\n",
    "str1.ljust(15,'-')"
   ]
  },
  {
   "cell_type": "code",
   "execution_count": 13,
   "id": "01da7737",
   "metadata": {},
   "outputs": [
    {
     "data": {
      "text/plain": [
       "'----------Neetu'"
      ]
     },
     "execution_count": 13,
     "metadata": {},
     "output_type": "execute_result"
    }
   ],
   "source": [
    "# Right Justifying\n",
    "str1 = 'Neetu'\n",
    "str1.rjust(15,'-')"
   ]
  },
  {
   "cell_type": "code",
   "execution_count": 18,
   "id": "66b4e635",
   "metadata": {},
   "outputs": [
    {
     "data": {
      "text/plain": [
       "'**********Neetu**********'"
      ]
     },
     "execution_count": 18,
     "metadata": {},
     "output_type": "execute_result"
    }
   ],
   "source": [
    "# Right Justifying\n",
    "str1 = 'Neetu'\n",
    "str1.center(25,'*')"
   ]
  },
  {
   "cell_type": "markdown",
   "id": "191509ce",
   "metadata": {},
   "source": [
    "### 10. What is the best way to remove whitespace characters from the start or end?\n",
    "\n",
    "**Ans:**\n",
    "\n",
    "These can be the two methods for removing white spaces from the start or end\n",
    "        \n",
    "    lstrip()\n",
    "    rstrip()"
   ]
  },
  {
   "cell_type": "code",
   "execution_count": 19,
   "id": "4eed4cb2",
   "metadata": {},
   "outputs": [],
   "source": [
    "str1 = '    NEETU    '\n",
    "\n",
    "l = str1.lstrip()\n",
    "r = str1.rstrip()"
   ]
  },
  {
   "cell_type": "code",
   "execution_count": 20,
   "id": "708430d3",
   "metadata": {},
   "outputs": [
    {
     "name": "stdout",
     "output_type": "stream",
     "text": [
      "Left Strip: NEETU    \n",
      "Right Strip:     NEETU\n"
     ]
    }
   ],
   "source": [
    "print(f'Left Strip: {l}')\n",
    "print(f'Right Strip: {r}')"
   ]
  }
 ],
 "metadata": {
  "kernelspec": {
   "display_name": "Python 3",
   "language": "python",
   "name": "python3"
  },
  "language_info": {
   "codemirror_mode": {
    "name": "ipython",
    "version": 3
   },
   "file_extension": ".py",
   "mimetype": "text/x-python",
   "name": "python",
   "nbconvert_exporter": "python",
   "pygments_lexer": "ipython3",
   "version": "3.8.8"
  }
 },
 "nbformat": 4,
 "nbformat_minor": 5
}
