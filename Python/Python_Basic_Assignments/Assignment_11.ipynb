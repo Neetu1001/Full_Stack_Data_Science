{
 "cells": [
  {
   "cell_type": "markdown",
   "id": "d2d8a721",
   "metadata": {},
   "source": [
    "## Assignment 11\n",
    "\n",
    "### 1. What is a lambda function in Python, and how does it differ from a regular function?\n",
    "**Ans:** In Python, a lambda function is a small, anonymous function defined using the **'lambda'** keyword. It allows you to create functions without explicitly defining a function using the def keyword. Lambda functions are typically used for simple, one-line operations and are often passed as arguments to higher-order functions or used in situations where a named function is not required.\n",
    "\n",
    "**``lambda arguments: expression``**\n",
    "\n",
    "Lambda functions differ from regular functions in a few key ways:\n",
    "\n",
    "1. **``Anonymous:``** Lambda functions are anonymous, meaning they are not explicitly named like regular functions. They are created on-the-fly and can be used immediately.\n",
    "\n",
    "2. **``Single Expression:``** Lambda functions are restricted to a single expression, unlike regular functions that can have multiple statements and a function body. The expression is evaluated and the result is returned automatically.\n",
    "\n",
    "3. **``Concise Syntax:``** The syntax for lambda functions is more concise compared to regular functions, making them useful for simple and short operations.\n",
    "\n",
    "4. **``No Statements:``** Lambda functions cannot contain statements or assignments. They are limited to single expressions."
   ]
  },
  {
   "cell_type": "code",
   "execution_count": 1,
   "id": "895145f1",
   "metadata": {},
   "outputs": [
    {
     "name": "stdout",
     "output_type": "stream",
     "text": [
      "8\n",
      "8\n"
     ]
    }
   ],
   "source": [
    "# Regular Function\n",
    "def add(x, y):\n",
    "    return x + y\n",
    "\n",
    "# Lambda Function\n",
    "add_lambda = lambda x, y: x + y\n",
    "\n",
    "# Calling the functions\n",
    "print(add(3, 5))\n",
    "print(add_lambda(3, 5))"
   ]
  },
  {
   "cell_type": "markdown",
   "id": "792642fd",
   "metadata": {},
   "source": [
    "### 2. Can a lambda function in Python have multiple arguments? If yes, how can you define and use them?\n",
    "**Ans:** Python lambda can be used with multiple arguments and these arguments are used in evaluating an expression to return a single value. A Python lambda function is used to execute an anonymous function, an anonymous meaning function without a name."
   ]
  },
  {
   "cell_type": "code",
   "execution_count": 3,
   "id": "f4d05de2",
   "metadata": {},
   "outputs": [
    {
     "name": "stdout",
     "output_type": "stream",
     "text": [
      "16\n"
     ]
    }
   ],
   "source": [
    "# Lambda example with single argument\n",
    "square = lambda x: x * x\n",
    "print(square(4))"
   ]
  },
  {
   "cell_type": "code",
   "execution_count": 2,
   "id": "1974be62",
   "metadata": {},
   "outputs": [
    {
     "name": "stdout",
     "output_type": "stream",
     "text": [
      "30\n"
     ]
    }
   ],
   "source": [
    "# Lambda example with two arguments\n",
    "add = lambda x, y : x + y\n",
    "print(add(10, 20)) "
   ]
  },
  {
   "cell_type": "code",
   "execution_count": 5,
   "id": "68bd04fa",
   "metadata": {},
   "outputs": [
    {
     "name": "stdout",
     "output_type": "stream",
     "text": [
      "[3, 7, 7, 8, 7]\n"
     ]
    }
   ],
   "source": [
    "# Create two lists with numbers \n",
    "numbers1 = [2, 4, 5, 6, 3]\n",
    "numbers2 = [1, 3, 2, 2, 4]\n",
    "\n",
    "# Create lambda function that takes two arguments\n",
    "add_fun = lambda x, y: x+y\n",
    "\n",
    "# Use lambda with map() function\n",
    "add_result = list(map(add_fun, numbers1, numbers2))\n",
    "print(add_result) "
   ]
  },
  {
   "cell_type": "markdown",
   "id": "22cc0ae0",
   "metadata": {},
   "source": [
    "### 3. How are lambda functions typically used in Python? Provide an example use case.\n",
    "**Ans:** "
   ]
  },
  {
   "cell_type": "code",
   "execution_count": 1,
   "id": "4a63a051",
   "metadata": {},
   "outputs": [
    {
     "name": "stdout",
     "output_type": "stream",
     "text": [
      "8\n",
      "8\n"
     ]
    }
   ],
   "source": [
    "# Regular Function\n",
    "def add(x, y):\n",
    "    return x + y\n",
    "\n",
    "# Lambda Function\n",
    "add_lambda = lambda x, y: x + y\n",
    "\n",
    "# Calling the functions\n",
    "print(add(3, 5))\n",
    "print(add_lambda(3, 5))"
   ]
  },
  {
   "cell_type": "markdown",
   "id": "c3ac2993",
   "metadata": {},
   "source": [
    "### 4. What are the advantages and limitations of lambda functions compared to regular functions in Python?\n",
    "**Ans:** Lambda functions in Python offer several advantages and have certain limitations when compared to regular functions. Let's explore them:\n",
    "\n",
    "    Advantages of Lambda Functions:\n",
    "\n",
    "1. **``Concise Syntax:``** Lambda functions have a compact syntax, allowing you to define small, one-line functions without the need for a formal function definition using the def keyword. This can make code more readable and reduce the number of lines.\n",
    "\n",
    "2. **``Anonymous Functions:``** Lambda functions are anonymous, meaning they do not require a specific name. They can be created on-the-fly and passed directly as arguments to higher-order functions. This is useful in situations where a function is needed temporarily or for a specific purpose.\n",
    "\n",
    "3. **``Higher-Order Functions:``** Lambda functions are commonly used in conjunction with higher-order functions like filter(), map(), and reduce(). They can be used to provide custom logic or transformations to these functions without defining a separate named function.\n",
    "\n",
    "\n",
    "    Limitations of Lambda Functions:\n",
    "\n",
    "1. **``Single Expression:``** Lambda functions are limited to a single expression, which means they cannot contain multiple statements or complex logic. They are best suited for simple operations and calculations.\n",
    "\n",
    "2. **``No Statements or Assignments:``** Lambda functions cannot contain statements or assignments, such as if statements or variable assignments. They are restricted to evaluating an expression and returning the result.\n",
    "\n",
    "3. **``Limited Readability:``** While lambda functions can make code more concise, they can also make it harder to understand and debug if they become too complex or contain intricate logic. In such cases, using a regular named function with a well-defined function body may be more readable and maintainable.\n",
    "\n",
    "4. **``Limited Reusability:``** Lambda functions are primarily intended for one-time use and are not designed for reuse across multiple parts of the code. Regular functions, on the other hand, can be defined once and called from different parts of the program, promoting code reuse and modularity.\n"
   ]
  },
  {
   "cell_type": "markdown",
   "id": "15a47356",
   "metadata": {},
   "source": [
    "### 5. Are lambda functions in Python able to access variables defined outside of their own scope? Explain with an example.\n",
    "**Ans:** Yes, lambda functions in Python can access variables defined outside of their own scope. This concept is known as \"lexical scoping\" or \"closure\" in Python. Lambda functions can access variables from the surrounding scope in which they are defined, including global variables and variables defined in an enclosing function."
   ]
  },
  {
   "cell_type": "code",
   "execution_count": 2,
   "id": "3cb3dd72",
   "metadata": {},
   "outputs": [
    {
     "name": "stdout",
     "output_type": "stream",
     "text": [
      "35\n"
     ]
    }
   ],
   "source": [
    "def outer_function():\n",
    "    x = 10\n",
    "    \n",
    "    # Lambda function accessing the variable x from its enclosing scope\n",
    "    square = lambda num: num ** 2 + x\n",
    "    \n",
    "    return square\n",
    "\n",
    "# Calling the outer function and assigning the returned lambda function\n",
    "square_fn = outer_function()\n",
    "\n",
    "# Using the returned lambda function\n",
    "result = square_fn(5)\n",
    "print(result)"
   ]
  },
  {
   "cell_type": "markdown",
   "id": "fe125640",
   "metadata": {},
   "source": [
    "### 6. Write a lambda function to calculate the square of a given number."
   ]
  },
  {
   "cell_type": "code",
   "execution_count": 3,
   "id": "3ab86fa8",
   "metadata": {},
   "outputs": [
    {
     "data": {
      "text/plain": [
       "25"
      ]
     },
     "execution_count": 3,
     "metadata": {},
     "output_type": "execute_result"
    }
   ],
   "source": [
    "square = lambda x: x ** 2\n",
    "square(5)"
   ]
  },
  {
   "cell_type": "markdown",
   "id": "e4662e9a",
   "metadata": {},
   "source": [
    "### 7. Create a lambda function to find the maximum value in a list of integers."
   ]
  },
  {
   "cell_type": "code",
   "execution_count": 4,
   "id": "2e66eee1",
   "metadata": {},
   "outputs": [
    {
     "data": {
      "text/plain": [
       "10"
      ]
     },
     "execution_count": 4,
     "metadata": {},
     "output_type": "execute_result"
    }
   ],
   "source": [
    "max_value = lambda lst: max(lst)\n",
    "numbers = [5, 8, 2, 10, 3]\n",
    "max_value(numbers)"
   ]
  },
  {
   "cell_type": "markdown",
   "id": "cd95a907",
   "metadata": {},
   "source": [
    "### 8. Implement a lambda function to filter out all the even numbers from a list of integers.\n",
    "**Ans:** "
   ]
  },
  {
   "cell_type": "code",
   "execution_count": 5,
   "id": "7ccc0e77",
   "metadata": {},
   "outputs": [
    {
     "data": {
      "text/plain": [
       "[2, 4, 6, 8, 10]"
      ]
     },
     "execution_count": 5,
     "metadata": {},
     "output_type": "execute_result"
    }
   ],
   "source": [
    "even_numbers = lambda lst: list(filter(lambda x: x % 2 == 0, lst))\n",
    "numbers = [1, 2, 3, 4, 5, 6, 7, 8, 9, 10]\n",
    "even_numbers(numbers)"
   ]
  },
  {
   "cell_type": "markdown",
   "id": "a3450c99",
   "metadata": {},
   "source": [
    "### 9. Write a lambda function to sort a list of strings in ascending order based on the length of each string."
   ]
  },
  {
   "cell_type": "code",
   "execution_count": 6,
   "id": "bd02c4d0",
   "metadata": {},
   "outputs": [
    {
     "data": {
      "text/plain": [
       "['pear', 'kiwi', 'apple', 'banana', 'orange']"
      ]
     },
     "execution_count": 6,
     "metadata": {},
     "output_type": "execute_result"
    }
   ],
   "source": [
    "sort_strings_by_length = lambda lst: sorted(lst, key=lambda x: len(x))\n",
    "strings = ['apple', 'banana', 'pear', 'kiwi', 'orange']\n",
    "sort_strings_by_length(strings)"
   ]
  },
  {
   "cell_type": "markdown",
   "id": "03c2443c",
   "metadata": {},
   "source": [
    "### 10. Create a lambda function that takes two lists as input and returns a new list containing the common elements between the two lists."
   ]
  },
  {
   "cell_type": "code",
   "execution_count": 7,
   "id": "1fd048ea",
   "metadata": {},
   "outputs": [
    {
     "data": {
      "text/plain": [
       "[1, 5, 6]"
      ]
     },
     "execution_count": 7,
     "metadata": {},
     "output_type": "execute_result"
    }
   ],
   "source": [
    "find_common_elements = lambda list1, list2: list(filter(lambda x: x in list2, list1))\n",
    "list1 = [1, 2, 3, 4, 5, 6]\n",
    "list2 = [5, 6, 7, 8, 9, 1]\n",
    "find_common_elements(list1, list2)"
   ]
  },
  {
   "cell_type": "markdown",
   "id": "96f006da",
   "metadata": {},
   "source": [
    "### 11. Write a recursive function to calculate the factorial of a given positive integer."
   ]
  },
  {
   "cell_type": "code",
   "execution_count": 10,
   "id": "3faf3ef5",
   "metadata": {},
   "outputs": [
    {
     "name": "stdout",
     "output_type": "stream",
     "text": [
      "120\n"
     ]
    }
   ],
   "source": [
    "def factorial(n):\n",
    "    if n == 0 or n == 1:\n",
    "        return 1\n",
    "    else:\n",
    "        return n * factorial(n - 1)\n",
    "\n",
    "result = factorial(5)\n",
    "print(result)"
   ]
  },
  {
   "cell_type": "markdown",
   "id": "8dc5be7c",
   "metadata": {},
   "source": [
    "### 12. Implement a recursive function to compute the nth Fibonacci number."
   ]
  },
  {
   "cell_type": "code",
   "execution_count": 11,
   "id": "cbd4e211",
   "metadata": {},
   "outputs": [
    {
     "name": "stdout",
     "output_type": "stream",
     "text": [
      "13\n"
     ]
    }
   ],
   "source": [
    "def fibonacci(n):\n",
    "    if n <= 0:\n",
    "        return None\n",
    "    elif n == 1 or n == 2:\n",
    "        return 1\n",
    "    else:\n",
    "        return fibonacci(n - 1) + fibonacci(n - 2)\n",
    "\n",
    "result = fibonacci(7)\n",
    "print(result)"
   ]
  },
  {
   "cell_type": "markdown",
   "id": "70b1d657",
   "metadata": {},
   "source": [
    "### 13. Create a recursive function to find the sum of all the elements in a given list."
   ]
  },
  {
   "cell_type": "code",
   "execution_count": 12,
   "id": "15f65171",
   "metadata": {},
   "outputs": [
    {
     "data": {
      "text/plain": [
       "15"
      ]
     },
     "execution_count": 12,
     "metadata": {},
     "output_type": "execute_result"
    }
   ],
   "source": [
    "def recursive_sum(lst):\n",
    "    if not lst:\n",
    "        return 0\n",
    "    else:\n",
    "        return lst[0] + recursive_sum(lst[1:])\n",
    "\n",
    "numbers = [1, 2, 3, 4, 5]\n",
    "recursive_sum(numbers)"
   ]
  },
  {
   "cell_type": "markdown",
   "id": "507aab7b",
   "metadata": {},
   "source": [
    "### 14. Write a recursive function to determine whether a given string is a palindrome."
   ]
  },
  {
   "cell_type": "code",
   "execution_count": 13,
   "id": "45f39dca",
   "metadata": {},
   "outputs": [
    {
     "name": "stdout",
     "output_type": "stream",
     "text": [
      "True\n",
      "False\n"
     ]
    }
   ],
   "source": [
    "def is_palindrome(s):\n",
    "    if len(s) <= 1:\n",
    "        return True\n",
    "    elif s[0] != s[-1]:\n",
    "        return False\n",
    "    else:\n",
    "        return is_palindrome(s[1:-1])\n",
    "\n",
    "result1 = is_palindrome(\"radar\")\n",
    "result2 = is_palindrome(\"hello\")\n",
    "print(result1)  # True\n",
    "print(result2)  # False"
   ]
  },
  {
   "cell_type": "markdown",
   "id": "f1f35f12",
   "metadata": {},
   "source": [
    "### 15. Implement a recursive function to find the greatest common divisor (GCD) of two positive integers."
   ]
  },
  {
   "cell_type": "code",
   "execution_count": 14,
   "id": "9cb18bb2",
   "metadata": {},
   "outputs": [
    {
     "data": {
      "text/plain": [
       "6"
      ]
     },
     "execution_count": 14,
     "metadata": {},
     "output_type": "execute_result"
    }
   ],
   "source": [
    "def gcd(a, b):\n",
    "    if b == 0:\n",
    "        return a\n",
    "    else:\n",
    "        return gcd(b, a % b)\n",
    "\n",
    "gcd(48, 18)"
   ]
  }
 ],
 "metadata": {
  "kernelspec": {
   "display_name": "Python 3",
   "language": "python",
   "name": "python3"
  },
  "language_info": {
   "codemirror_mode": {
    "name": "ipython",
    "version": 3
   },
   "file_extension": ".py",
   "mimetype": "text/x-python",
   "name": "python",
   "nbconvert_exporter": "python",
   "pygments_lexer": "ipython3",
   "version": "3.8.8"
  }
 },
 "nbformat": 4,
 "nbformat_minor": 5
}
